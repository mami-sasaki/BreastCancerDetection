{
  "nbformat": 4,
  "nbformat_minor": 0,
  "metadata": {
    "colab": {
      "name": "BreastCancer.ipynb",
      "provenance": [],
      "collapsed_sections": []
    },
    "kernelspec": {
      "name": "python3",
      "display_name": "Python 3"
    }
  },
  "cells": [
    {
      "cell_type": "markdown",
      "metadata": {
        "id": "7JPwx_lz31ZW",
        "colab_type": "text"
      },
      "source": [
        "#Breast Cancer Detection\n",
        "\n",
        "Cancer research has always been one of my biggest interests for personal reasons and I've always wanted to contribute my knowledge for advancement of cancer research. \n",
        "\n",
        "\n",
        "This data consists of features which are computed from a digitized image of a fine needle aspirate (FNA) of a breast mass. They describe characteristics of the cell nuclei present in the image.\n",
        "Data are also labeled with diagnosis which is either M = malignant or B = benign and the distribution of class is 357 benign, 212 malignant.\n",
        "\n",
        "Ten real-valued features are computed for each cell nucleus:\n",
        "\n",
        "*   radius (mean of distances from center to points on the perimeter)\n",
        "\n",
        "*   texture (standard deviation of gray-scale values)\n",
        "\n",
        "*   perimeter\n",
        "\n",
        "*   area\n",
        "\n",
        "*   smoothness (local variation in radius lengths)\n",
        "\n",
        "*   compactness (perimeter^2 / area - 1.0)\n",
        "\n",
        "*   concavity (severity of concave portions of the contour)\n",
        "\n",
        "*   concave points (number of concave portions of the contour)\n",
        "\n",
        "*   symmetry\n",
        "\n",
        "*   fractal dimension (\"coastline approximation\" - 1)\n",
        "\n"
      ]
    },
    {
      "cell_type": "code",
      "metadata": {
        "id": "GKmsrjZX360R",
        "colab_type": "code",
        "colab": {
          "base_uri": "https://localhost:8080/",
          "height": 122
        },
        "outputId": "654bcbbe-c704-4acd-d062-6cde3c4cdf4f"
      },
      "source": [
        "import numpy as np\n",
        "import pandas as pd\n",
        "\n",
        "from google.colab import drive\n",
        "drive.mount('/content/gdrive', force_remount=True)"
      ],
      "execution_count": 1,
      "outputs": [
        {
          "output_type": "stream",
          "text": [
            "Go to this URL in a browser: https://accounts.google.com/o/oauth2/auth?client_id=947318989803-6bn6qk8qdgf4n4g3pfee6491hc0brc4i.apps.googleusercontent.com&redirect_uri=urn%3aietf%3awg%3aoauth%3a2.0%3aoob&response_type=code&scope=email%20https%3a%2f%2fwww.googleapis.com%2fauth%2fdocs.test%20https%3a%2f%2fwww.googleapis.com%2fauth%2fdrive%20https%3a%2f%2fwww.googleapis.com%2fauth%2fdrive.photos.readonly%20https%3a%2f%2fwww.googleapis.com%2fauth%2fpeopleapi.readonly\n",
            "\n",
            "Enter your authorization code:\n",
            "··········\n",
            "Mounted at /content/gdrive\n"
          ],
          "name": "stdout"
        }
      ]
    },
    {
      "cell_type": "code",
      "metadata": {
        "id": "BPOGVIAk6FEo",
        "colab_type": "code",
        "colab": {}
      },
      "source": [
        "df = pd.read_csv('/content/gdrive/My Drive/Brainstation/data/breast_cancer.csv')"
      ],
      "execution_count": 2,
      "outputs": []
    },
    {
      "cell_type": "markdown",
      "metadata": {
        "id": "9fNfSnE1YlHG",
        "colab_type": "text"
      },
      "source": [
        "# Explore Data"
      ]
    },
    {
      "cell_type": "code",
      "metadata": {
        "id": "npH7RaBM6a3b",
        "colab_type": "code",
        "colab": {
          "base_uri": "https://localhost:8080/",
          "height": 396
        },
        "outputId": "6fcba49b-366f-45b2-bd02-d15cb1ebe960"
      },
      "source": [
        "df.head(10)"
      ],
      "execution_count": 3,
      "outputs": [
        {
          "output_type": "execute_result",
          "data": {
            "text/html": [
              "<div>\n",
              "<style scoped>\n",
              "    .dataframe tbody tr th:only-of-type {\n",
              "        vertical-align: middle;\n",
              "    }\n",
              "\n",
              "    .dataframe tbody tr th {\n",
              "        vertical-align: top;\n",
              "    }\n",
              "\n",
              "    .dataframe thead th {\n",
              "        text-align: right;\n",
              "    }\n",
              "</style>\n",
              "<table border=\"1\" class=\"dataframe\">\n",
              "  <thead>\n",
              "    <tr style=\"text-align: right;\">\n",
              "      <th></th>\n",
              "      <th>id</th>\n",
              "      <th>diagnosis</th>\n",
              "      <th>radius_mean</th>\n",
              "      <th>texture_mean</th>\n",
              "      <th>perimeter_mean</th>\n",
              "      <th>area_mean</th>\n",
              "      <th>smoothness_mean</th>\n",
              "      <th>compactness_mean</th>\n",
              "      <th>concavity_mean</th>\n",
              "      <th>concave points_mean</th>\n",
              "      <th>symmetry_mean</th>\n",
              "      <th>fractal_dimension_mean</th>\n",
              "      <th>radius_se</th>\n",
              "      <th>texture_se</th>\n",
              "      <th>perimeter_se</th>\n",
              "      <th>area_se</th>\n",
              "      <th>smoothness_se</th>\n",
              "      <th>compactness_se</th>\n",
              "      <th>concavity_se</th>\n",
              "      <th>concave points_se</th>\n",
              "      <th>symmetry_se</th>\n",
              "      <th>fractal_dimension_se</th>\n",
              "      <th>radius_worst</th>\n",
              "      <th>texture_worst</th>\n",
              "      <th>perimeter_worst</th>\n",
              "      <th>area_worst</th>\n",
              "      <th>smoothness_worst</th>\n",
              "      <th>compactness_worst</th>\n",
              "      <th>concavity_worst</th>\n",
              "      <th>concave points_worst</th>\n",
              "      <th>symmetry_worst</th>\n",
              "      <th>fractal_dimension_worst</th>\n",
              "      <th>Unnamed: 32</th>\n",
              "    </tr>\n",
              "  </thead>\n",
              "  <tbody>\n",
              "    <tr>\n",
              "      <th>0</th>\n",
              "      <td>842302</td>\n",
              "      <td>M</td>\n",
              "      <td>17.99</td>\n",
              "      <td>10.38</td>\n",
              "      <td>122.80</td>\n",
              "      <td>1001.0</td>\n",
              "      <td>0.11840</td>\n",
              "      <td>0.27760</td>\n",
              "      <td>0.30010</td>\n",
              "      <td>0.14710</td>\n",
              "      <td>0.2419</td>\n",
              "      <td>0.07871</td>\n",
              "      <td>1.0950</td>\n",
              "      <td>0.9053</td>\n",
              "      <td>8.589</td>\n",
              "      <td>153.40</td>\n",
              "      <td>0.006399</td>\n",
              "      <td>0.04904</td>\n",
              "      <td>0.05373</td>\n",
              "      <td>0.01587</td>\n",
              "      <td>0.03003</td>\n",
              "      <td>0.006193</td>\n",
              "      <td>25.38</td>\n",
              "      <td>17.33</td>\n",
              "      <td>184.60</td>\n",
              "      <td>2019.0</td>\n",
              "      <td>0.1622</td>\n",
              "      <td>0.6656</td>\n",
              "      <td>0.7119</td>\n",
              "      <td>0.2654</td>\n",
              "      <td>0.4601</td>\n",
              "      <td>0.11890</td>\n",
              "      <td>NaN</td>\n",
              "    </tr>\n",
              "    <tr>\n",
              "      <th>1</th>\n",
              "      <td>842517</td>\n",
              "      <td>M</td>\n",
              "      <td>20.57</td>\n",
              "      <td>17.77</td>\n",
              "      <td>132.90</td>\n",
              "      <td>1326.0</td>\n",
              "      <td>0.08474</td>\n",
              "      <td>0.07864</td>\n",
              "      <td>0.08690</td>\n",
              "      <td>0.07017</td>\n",
              "      <td>0.1812</td>\n",
              "      <td>0.05667</td>\n",
              "      <td>0.5435</td>\n",
              "      <td>0.7339</td>\n",
              "      <td>3.398</td>\n",
              "      <td>74.08</td>\n",
              "      <td>0.005225</td>\n",
              "      <td>0.01308</td>\n",
              "      <td>0.01860</td>\n",
              "      <td>0.01340</td>\n",
              "      <td>0.01389</td>\n",
              "      <td>0.003532</td>\n",
              "      <td>24.99</td>\n",
              "      <td>23.41</td>\n",
              "      <td>158.80</td>\n",
              "      <td>1956.0</td>\n",
              "      <td>0.1238</td>\n",
              "      <td>0.1866</td>\n",
              "      <td>0.2416</td>\n",
              "      <td>0.1860</td>\n",
              "      <td>0.2750</td>\n",
              "      <td>0.08902</td>\n",
              "      <td>NaN</td>\n",
              "    </tr>\n",
              "    <tr>\n",
              "      <th>2</th>\n",
              "      <td>84300903</td>\n",
              "      <td>M</td>\n",
              "      <td>19.69</td>\n",
              "      <td>21.25</td>\n",
              "      <td>130.00</td>\n",
              "      <td>1203.0</td>\n",
              "      <td>0.10960</td>\n",
              "      <td>0.15990</td>\n",
              "      <td>0.19740</td>\n",
              "      <td>0.12790</td>\n",
              "      <td>0.2069</td>\n",
              "      <td>0.05999</td>\n",
              "      <td>0.7456</td>\n",
              "      <td>0.7869</td>\n",
              "      <td>4.585</td>\n",
              "      <td>94.03</td>\n",
              "      <td>0.006150</td>\n",
              "      <td>0.04006</td>\n",
              "      <td>0.03832</td>\n",
              "      <td>0.02058</td>\n",
              "      <td>0.02250</td>\n",
              "      <td>0.004571</td>\n",
              "      <td>23.57</td>\n",
              "      <td>25.53</td>\n",
              "      <td>152.50</td>\n",
              "      <td>1709.0</td>\n",
              "      <td>0.1444</td>\n",
              "      <td>0.4245</td>\n",
              "      <td>0.4504</td>\n",
              "      <td>0.2430</td>\n",
              "      <td>0.3613</td>\n",
              "      <td>0.08758</td>\n",
              "      <td>NaN</td>\n",
              "    </tr>\n",
              "    <tr>\n",
              "      <th>3</th>\n",
              "      <td>84348301</td>\n",
              "      <td>M</td>\n",
              "      <td>11.42</td>\n",
              "      <td>20.38</td>\n",
              "      <td>77.58</td>\n",
              "      <td>386.1</td>\n",
              "      <td>0.14250</td>\n",
              "      <td>0.28390</td>\n",
              "      <td>0.24140</td>\n",
              "      <td>0.10520</td>\n",
              "      <td>0.2597</td>\n",
              "      <td>0.09744</td>\n",
              "      <td>0.4956</td>\n",
              "      <td>1.1560</td>\n",
              "      <td>3.445</td>\n",
              "      <td>27.23</td>\n",
              "      <td>0.009110</td>\n",
              "      <td>0.07458</td>\n",
              "      <td>0.05661</td>\n",
              "      <td>0.01867</td>\n",
              "      <td>0.05963</td>\n",
              "      <td>0.009208</td>\n",
              "      <td>14.91</td>\n",
              "      <td>26.50</td>\n",
              "      <td>98.87</td>\n",
              "      <td>567.7</td>\n",
              "      <td>0.2098</td>\n",
              "      <td>0.8663</td>\n",
              "      <td>0.6869</td>\n",
              "      <td>0.2575</td>\n",
              "      <td>0.6638</td>\n",
              "      <td>0.17300</td>\n",
              "      <td>NaN</td>\n",
              "    </tr>\n",
              "    <tr>\n",
              "      <th>4</th>\n",
              "      <td>84358402</td>\n",
              "      <td>M</td>\n",
              "      <td>20.29</td>\n",
              "      <td>14.34</td>\n",
              "      <td>135.10</td>\n",
              "      <td>1297.0</td>\n",
              "      <td>0.10030</td>\n",
              "      <td>0.13280</td>\n",
              "      <td>0.19800</td>\n",
              "      <td>0.10430</td>\n",
              "      <td>0.1809</td>\n",
              "      <td>0.05883</td>\n",
              "      <td>0.7572</td>\n",
              "      <td>0.7813</td>\n",
              "      <td>5.438</td>\n",
              "      <td>94.44</td>\n",
              "      <td>0.011490</td>\n",
              "      <td>0.02461</td>\n",
              "      <td>0.05688</td>\n",
              "      <td>0.01885</td>\n",
              "      <td>0.01756</td>\n",
              "      <td>0.005115</td>\n",
              "      <td>22.54</td>\n",
              "      <td>16.67</td>\n",
              "      <td>152.20</td>\n",
              "      <td>1575.0</td>\n",
              "      <td>0.1374</td>\n",
              "      <td>0.2050</td>\n",
              "      <td>0.4000</td>\n",
              "      <td>0.1625</td>\n",
              "      <td>0.2364</td>\n",
              "      <td>0.07678</td>\n",
              "      <td>NaN</td>\n",
              "    </tr>\n",
              "    <tr>\n",
              "      <th>5</th>\n",
              "      <td>843786</td>\n",
              "      <td>M</td>\n",
              "      <td>12.45</td>\n",
              "      <td>15.70</td>\n",
              "      <td>82.57</td>\n",
              "      <td>477.1</td>\n",
              "      <td>0.12780</td>\n",
              "      <td>0.17000</td>\n",
              "      <td>0.15780</td>\n",
              "      <td>0.08089</td>\n",
              "      <td>0.2087</td>\n",
              "      <td>0.07613</td>\n",
              "      <td>0.3345</td>\n",
              "      <td>0.8902</td>\n",
              "      <td>2.217</td>\n",
              "      <td>27.19</td>\n",
              "      <td>0.007510</td>\n",
              "      <td>0.03345</td>\n",
              "      <td>0.03672</td>\n",
              "      <td>0.01137</td>\n",
              "      <td>0.02165</td>\n",
              "      <td>0.005082</td>\n",
              "      <td>15.47</td>\n",
              "      <td>23.75</td>\n",
              "      <td>103.40</td>\n",
              "      <td>741.6</td>\n",
              "      <td>0.1791</td>\n",
              "      <td>0.5249</td>\n",
              "      <td>0.5355</td>\n",
              "      <td>0.1741</td>\n",
              "      <td>0.3985</td>\n",
              "      <td>0.12440</td>\n",
              "      <td>NaN</td>\n",
              "    </tr>\n",
              "    <tr>\n",
              "      <th>6</th>\n",
              "      <td>844359</td>\n",
              "      <td>M</td>\n",
              "      <td>18.25</td>\n",
              "      <td>19.98</td>\n",
              "      <td>119.60</td>\n",
              "      <td>1040.0</td>\n",
              "      <td>0.09463</td>\n",
              "      <td>0.10900</td>\n",
              "      <td>0.11270</td>\n",
              "      <td>0.07400</td>\n",
              "      <td>0.1794</td>\n",
              "      <td>0.05742</td>\n",
              "      <td>0.4467</td>\n",
              "      <td>0.7732</td>\n",
              "      <td>3.180</td>\n",
              "      <td>53.91</td>\n",
              "      <td>0.004314</td>\n",
              "      <td>0.01382</td>\n",
              "      <td>0.02254</td>\n",
              "      <td>0.01039</td>\n",
              "      <td>0.01369</td>\n",
              "      <td>0.002179</td>\n",
              "      <td>22.88</td>\n",
              "      <td>27.66</td>\n",
              "      <td>153.20</td>\n",
              "      <td>1606.0</td>\n",
              "      <td>0.1442</td>\n",
              "      <td>0.2576</td>\n",
              "      <td>0.3784</td>\n",
              "      <td>0.1932</td>\n",
              "      <td>0.3063</td>\n",
              "      <td>0.08368</td>\n",
              "      <td>NaN</td>\n",
              "    </tr>\n",
              "    <tr>\n",
              "      <th>7</th>\n",
              "      <td>84458202</td>\n",
              "      <td>M</td>\n",
              "      <td>13.71</td>\n",
              "      <td>20.83</td>\n",
              "      <td>90.20</td>\n",
              "      <td>577.9</td>\n",
              "      <td>0.11890</td>\n",
              "      <td>0.16450</td>\n",
              "      <td>0.09366</td>\n",
              "      <td>0.05985</td>\n",
              "      <td>0.2196</td>\n",
              "      <td>0.07451</td>\n",
              "      <td>0.5835</td>\n",
              "      <td>1.3770</td>\n",
              "      <td>3.856</td>\n",
              "      <td>50.96</td>\n",
              "      <td>0.008805</td>\n",
              "      <td>0.03029</td>\n",
              "      <td>0.02488</td>\n",
              "      <td>0.01448</td>\n",
              "      <td>0.01486</td>\n",
              "      <td>0.005412</td>\n",
              "      <td>17.06</td>\n",
              "      <td>28.14</td>\n",
              "      <td>110.60</td>\n",
              "      <td>897.0</td>\n",
              "      <td>0.1654</td>\n",
              "      <td>0.3682</td>\n",
              "      <td>0.2678</td>\n",
              "      <td>0.1556</td>\n",
              "      <td>0.3196</td>\n",
              "      <td>0.11510</td>\n",
              "      <td>NaN</td>\n",
              "    </tr>\n",
              "    <tr>\n",
              "      <th>8</th>\n",
              "      <td>844981</td>\n",
              "      <td>M</td>\n",
              "      <td>13.00</td>\n",
              "      <td>21.82</td>\n",
              "      <td>87.50</td>\n",
              "      <td>519.8</td>\n",
              "      <td>0.12730</td>\n",
              "      <td>0.19320</td>\n",
              "      <td>0.18590</td>\n",
              "      <td>0.09353</td>\n",
              "      <td>0.2350</td>\n",
              "      <td>0.07389</td>\n",
              "      <td>0.3063</td>\n",
              "      <td>1.0020</td>\n",
              "      <td>2.406</td>\n",
              "      <td>24.32</td>\n",
              "      <td>0.005731</td>\n",
              "      <td>0.03502</td>\n",
              "      <td>0.03553</td>\n",
              "      <td>0.01226</td>\n",
              "      <td>0.02143</td>\n",
              "      <td>0.003749</td>\n",
              "      <td>15.49</td>\n",
              "      <td>30.73</td>\n",
              "      <td>106.20</td>\n",
              "      <td>739.3</td>\n",
              "      <td>0.1703</td>\n",
              "      <td>0.5401</td>\n",
              "      <td>0.5390</td>\n",
              "      <td>0.2060</td>\n",
              "      <td>0.4378</td>\n",
              "      <td>0.10720</td>\n",
              "      <td>NaN</td>\n",
              "    </tr>\n",
              "    <tr>\n",
              "      <th>9</th>\n",
              "      <td>84501001</td>\n",
              "      <td>M</td>\n",
              "      <td>12.46</td>\n",
              "      <td>24.04</td>\n",
              "      <td>83.97</td>\n",
              "      <td>475.9</td>\n",
              "      <td>0.11860</td>\n",
              "      <td>0.23960</td>\n",
              "      <td>0.22730</td>\n",
              "      <td>0.08543</td>\n",
              "      <td>0.2030</td>\n",
              "      <td>0.08243</td>\n",
              "      <td>0.2976</td>\n",
              "      <td>1.5990</td>\n",
              "      <td>2.039</td>\n",
              "      <td>23.94</td>\n",
              "      <td>0.007149</td>\n",
              "      <td>0.07217</td>\n",
              "      <td>0.07743</td>\n",
              "      <td>0.01432</td>\n",
              "      <td>0.01789</td>\n",
              "      <td>0.010080</td>\n",
              "      <td>15.09</td>\n",
              "      <td>40.68</td>\n",
              "      <td>97.65</td>\n",
              "      <td>711.4</td>\n",
              "      <td>0.1853</td>\n",
              "      <td>1.0580</td>\n",
              "      <td>1.1050</td>\n",
              "      <td>0.2210</td>\n",
              "      <td>0.4366</td>\n",
              "      <td>0.20750</td>\n",
              "      <td>NaN</td>\n",
              "    </tr>\n",
              "  </tbody>\n",
              "</table>\n",
              "</div>"
            ],
            "text/plain": [
              "         id diagnosis  ...  fractal_dimension_worst  Unnamed: 32\n",
              "0    842302         M  ...                  0.11890          NaN\n",
              "1    842517         M  ...                  0.08902          NaN\n",
              "2  84300903         M  ...                  0.08758          NaN\n",
              "3  84348301         M  ...                  0.17300          NaN\n",
              "4  84358402         M  ...                  0.07678          NaN\n",
              "5    843786         M  ...                  0.12440          NaN\n",
              "6    844359         M  ...                  0.08368          NaN\n",
              "7  84458202         M  ...                  0.11510          NaN\n",
              "8    844981         M  ...                  0.10720          NaN\n",
              "9  84501001         M  ...                  0.20750          NaN\n",
              "\n",
              "[10 rows x 33 columns]"
            ]
          },
          "metadata": {
            "tags": []
          },
          "execution_count": 3
        }
      ]
    },
    {
      "cell_type": "code",
      "metadata": {
        "id": "QBZ_tYGtXKvI",
        "colab_type": "code",
        "colab": {
          "base_uri": "https://localhost:8080/",
          "height": 34
        },
        "outputId": "295195d6-3d03-40cb-c561-97370c6b731b"
      },
      "source": [
        "df.shape"
      ],
      "execution_count": 4,
      "outputs": [
        {
          "output_type": "execute_result",
          "data": {
            "text/plain": [
              "(569, 33)"
            ]
          },
          "metadata": {
            "tags": []
          },
          "execution_count": 4
        }
      ]
    },
    {
      "cell_type": "code",
      "metadata": {
        "id": "olD2Y49KpH2Y",
        "colab_type": "code",
        "colab": {
          "base_uri": "https://localhost:8080/",
          "height": 187
        },
        "outputId": "5c52e122-fecf-413b-ceab-a1e6a17be404"
      },
      "source": [
        "df.columns"
      ],
      "execution_count": 5,
      "outputs": [
        {
          "output_type": "execute_result",
          "data": {
            "text/plain": [
              "Index(['id', 'diagnosis', 'radius_mean', 'texture_mean', 'perimeter_mean',\n",
              "       'area_mean', 'smoothness_mean', 'compactness_mean', 'concavity_mean',\n",
              "       'concave points_mean', 'symmetry_mean', 'fractal_dimension_mean',\n",
              "       'radius_se', 'texture_se', 'perimeter_se', 'area_se', 'smoothness_se',\n",
              "       'compactness_se', 'concavity_se', 'concave points_se', 'symmetry_se',\n",
              "       'fractal_dimension_se', 'radius_worst', 'texture_worst',\n",
              "       'perimeter_worst', 'area_worst', 'smoothness_worst',\n",
              "       'compactness_worst', 'concavity_worst', 'concave points_worst',\n",
              "       'symmetry_worst', 'fractal_dimension_worst', 'Unnamed: 32'],\n",
              "      dtype='object')"
            ]
          },
          "metadata": {
            "tags": []
          },
          "execution_count": 5
        }
      ]
    },
    {
      "cell_type": "markdown",
      "metadata": {
        "id": "n3c6X-kgWtsT",
        "colab_type": "text"
      },
      "source": [
        "# Processing Data"
      ]
    },
    {
      "cell_type": "markdown",
      "metadata": {
        "id": "zVdLfNWEps8L",
        "colab_type": "text"
      },
      "source": [
        "First clean dataset by removing the column with missing values. "
      ]
    },
    {
      "cell_type": "code",
      "metadata": {
        "id": "C5NwQoynn1EL",
        "colab_type": "code",
        "colab": {
          "base_uri": "https://localhost:8080/",
          "height": 396
        },
        "outputId": "7645d9e5-ee2c-4c3a-eb79-3d173e7eae68"
      },
      "source": [
        "df.dropna(inplace=True, axis='columns')\n",
        "df.head(10)"
      ],
      "execution_count": 6,
      "outputs": [
        {
          "output_type": "execute_result",
          "data": {
            "text/html": [
              "<div>\n",
              "<style scoped>\n",
              "    .dataframe tbody tr th:only-of-type {\n",
              "        vertical-align: middle;\n",
              "    }\n",
              "\n",
              "    .dataframe tbody tr th {\n",
              "        vertical-align: top;\n",
              "    }\n",
              "\n",
              "    .dataframe thead th {\n",
              "        text-align: right;\n",
              "    }\n",
              "</style>\n",
              "<table border=\"1\" class=\"dataframe\">\n",
              "  <thead>\n",
              "    <tr style=\"text-align: right;\">\n",
              "      <th></th>\n",
              "      <th>id</th>\n",
              "      <th>diagnosis</th>\n",
              "      <th>radius_mean</th>\n",
              "      <th>texture_mean</th>\n",
              "      <th>perimeter_mean</th>\n",
              "      <th>area_mean</th>\n",
              "      <th>smoothness_mean</th>\n",
              "      <th>compactness_mean</th>\n",
              "      <th>concavity_mean</th>\n",
              "      <th>concave points_mean</th>\n",
              "      <th>symmetry_mean</th>\n",
              "      <th>fractal_dimension_mean</th>\n",
              "      <th>radius_se</th>\n",
              "      <th>texture_se</th>\n",
              "      <th>perimeter_se</th>\n",
              "      <th>area_se</th>\n",
              "      <th>smoothness_se</th>\n",
              "      <th>compactness_se</th>\n",
              "      <th>concavity_se</th>\n",
              "      <th>concave points_se</th>\n",
              "      <th>symmetry_se</th>\n",
              "      <th>fractal_dimension_se</th>\n",
              "      <th>radius_worst</th>\n",
              "      <th>texture_worst</th>\n",
              "      <th>perimeter_worst</th>\n",
              "      <th>area_worst</th>\n",
              "      <th>smoothness_worst</th>\n",
              "      <th>compactness_worst</th>\n",
              "      <th>concavity_worst</th>\n",
              "      <th>concave points_worst</th>\n",
              "      <th>symmetry_worst</th>\n",
              "      <th>fractal_dimension_worst</th>\n",
              "    </tr>\n",
              "  </thead>\n",
              "  <tbody>\n",
              "    <tr>\n",
              "      <th>0</th>\n",
              "      <td>842302</td>\n",
              "      <td>M</td>\n",
              "      <td>17.99</td>\n",
              "      <td>10.38</td>\n",
              "      <td>122.80</td>\n",
              "      <td>1001.0</td>\n",
              "      <td>0.11840</td>\n",
              "      <td>0.27760</td>\n",
              "      <td>0.30010</td>\n",
              "      <td>0.14710</td>\n",
              "      <td>0.2419</td>\n",
              "      <td>0.07871</td>\n",
              "      <td>1.0950</td>\n",
              "      <td>0.9053</td>\n",
              "      <td>8.589</td>\n",
              "      <td>153.40</td>\n",
              "      <td>0.006399</td>\n",
              "      <td>0.04904</td>\n",
              "      <td>0.05373</td>\n",
              "      <td>0.01587</td>\n",
              "      <td>0.03003</td>\n",
              "      <td>0.006193</td>\n",
              "      <td>25.38</td>\n",
              "      <td>17.33</td>\n",
              "      <td>184.60</td>\n",
              "      <td>2019.0</td>\n",
              "      <td>0.1622</td>\n",
              "      <td>0.6656</td>\n",
              "      <td>0.7119</td>\n",
              "      <td>0.2654</td>\n",
              "      <td>0.4601</td>\n",
              "      <td>0.11890</td>\n",
              "    </tr>\n",
              "    <tr>\n",
              "      <th>1</th>\n",
              "      <td>842517</td>\n",
              "      <td>M</td>\n",
              "      <td>20.57</td>\n",
              "      <td>17.77</td>\n",
              "      <td>132.90</td>\n",
              "      <td>1326.0</td>\n",
              "      <td>0.08474</td>\n",
              "      <td>0.07864</td>\n",
              "      <td>0.08690</td>\n",
              "      <td>0.07017</td>\n",
              "      <td>0.1812</td>\n",
              "      <td>0.05667</td>\n",
              "      <td>0.5435</td>\n",
              "      <td>0.7339</td>\n",
              "      <td>3.398</td>\n",
              "      <td>74.08</td>\n",
              "      <td>0.005225</td>\n",
              "      <td>0.01308</td>\n",
              "      <td>0.01860</td>\n",
              "      <td>0.01340</td>\n",
              "      <td>0.01389</td>\n",
              "      <td>0.003532</td>\n",
              "      <td>24.99</td>\n",
              "      <td>23.41</td>\n",
              "      <td>158.80</td>\n",
              "      <td>1956.0</td>\n",
              "      <td>0.1238</td>\n",
              "      <td>0.1866</td>\n",
              "      <td>0.2416</td>\n",
              "      <td>0.1860</td>\n",
              "      <td>0.2750</td>\n",
              "      <td>0.08902</td>\n",
              "    </tr>\n",
              "    <tr>\n",
              "      <th>2</th>\n",
              "      <td>84300903</td>\n",
              "      <td>M</td>\n",
              "      <td>19.69</td>\n",
              "      <td>21.25</td>\n",
              "      <td>130.00</td>\n",
              "      <td>1203.0</td>\n",
              "      <td>0.10960</td>\n",
              "      <td>0.15990</td>\n",
              "      <td>0.19740</td>\n",
              "      <td>0.12790</td>\n",
              "      <td>0.2069</td>\n",
              "      <td>0.05999</td>\n",
              "      <td>0.7456</td>\n",
              "      <td>0.7869</td>\n",
              "      <td>4.585</td>\n",
              "      <td>94.03</td>\n",
              "      <td>0.006150</td>\n",
              "      <td>0.04006</td>\n",
              "      <td>0.03832</td>\n",
              "      <td>0.02058</td>\n",
              "      <td>0.02250</td>\n",
              "      <td>0.004571</td>\n",
              "      <td>23.57</td>\n",
              "      <td>25.53</td>\n",
              "      <td>152.50</td>\n",
              "      <td>1709.0</td>\n",
              "      <td>0.1444</td>\n",
              "      <td>0.4245</td>\n",
              "      <td>0.4504</td>\n",
              "      <td>0.2430</td>\n",
              "      <td>0.3613</td>\n",
              "      <td>0.08758</td>\n",
              "    </tr>\n",
              "    <tr>\n",
              "      <th>3</th>\n",
              "      <td>84348301</td>\n",
              "      <td>M</td>\n",
              "      <td>11.42</td>\n",
              "      <td>20.38</td>\n",
              "      <td>77.58</td>\n",
              "      <td>386.1</td>\n",
              "      <td>0.14250</td>\n",
              "      <td>0.28390</td>\n",
              "      <td>0.24140</td>\n",
              "      <td>0.10520</td>\n",
              "      <td>0.2597</td>\n",
              "      <td>0.09744</td>\n",
              "      <td>0.4956</td>\n",
              "      <td>1.1560</td>\n",
              "      <td>3.445</td>\n",
              "      <td>27.23</td>\n",
              "      <td>0.009110</td>\n",
              "      <td>0.07458</td>\n",
              "      <td>0.05661</td>\n",
              "      <td>0.01867</td>\n",
              "      <td>0.05963</td>\n",
              "      <td>0.009208</td>\n",
              "      <td>14.91</td>\n",
              "      <td>26.50</td>\n",
              "      <td>98.87</td>\n",
              "      <td>567.7</td>\n",
              "      <td>0.2098</td>\n",
              "      <td>0.8663</td>\n",
              "      <td>0.6869</td>\n",
              "      <td>0.2575</td>\n",
              "      <td>0.6638</td>\n",
              "      <td>0.17300</td>\n",
              "    </tr>\n",
              "    <tr>\n",
              "      <th>4</th>\n",
              "      <td>84358402</td>\n",
              "      <td>M</td>\n",
              "      <td>20.29</td>\n",
              "      <td>14.34</td>\n",
              "      <td>135.10</td>\n",
              "      <td>1297.0</td>\n",
              "      <td>0.10030</td>\n",
              "      <td>0.13280</td>\n",
              "      <td>0.19800</td>\n",
              "      <td>0.10430</td>\n",
              "      <td>0.1809</td>\n",
              "      <td>0.05883</td>\n",
              "      <td>0.7572</td>\n",
              "      <td>0.7813</td>\n",
              "      <td>5.438</td>\n",
              "      <td>94.44</td>\n",
              "      <td>0.011490</td>\n",
              "      <td>0.02461</td>\n",
              "      <td>0.05688</td>\n",
              "      <td>0.01885</td>\n",
              "      <td>0.01756</td>\n",
              "      <td>0.005115</td>\n",
              "      <td>22.54</td>\n",
              "      <td>16.67</td>\n",
              "      <td>152.20</td>\n",
              "      <td>1575.0</td>\n",
              "      <td>0.1374</td>\n",
              "      <td>0.2050</td>\n",
              "      <td>0.4000</td>\n",
              "      <td>0.1625</td>\n",
              "      <td>0.2364</td>\n",
              "      <td>0.07678</td>\n",
              "    </tr>\n",
              "    <tr>\n",
              "      <th>5</th>\n",
              "      <td>843786</td>\n",
              "      <td>M</td>\n",
              "      <td>12.45</td>\n",
              "      <td>15.70</td>\n",
              "      <td>82.57</td>\n",
              "      <td>477.1</td>\n",
              "      <td>0.12780</td>\n",
              "      <td>0.17000</td>\n",
              "      <td>0.15780</td>\n",
              "      <td>0.08089</td>\n",
              "      <td>0.2087</td>\n",
              "      <td>0.07613</td>\n",
              "      <td>0.3345</td>\n",
              "      <td>0.8902</td>\n",
              "      <td>2.217</td>\n",
              "      <td>27.19</td>\n",
              "      <td>0.007510</td>\n",
              "      <td>0.03345</td>\n",
              "      <td>0.03672</td>\n",
              "      <td>0.01137</td>\n",
              "      <td>0.02165</td>\n",
              "      <td>0.005082</td>\n",
              "      <td>15.47</td>\n",
              "      <td>23.75</td>\n",
              "      <td>103.40</td>\n",
              "      <td>741.6</td>\n",
              "      <td>0.1791</td>\n",
              "      <td>0.5249</td>\n",
              "      <td>0.5355</td>\n",
              "      <td>0.1741</td>\n",
              "      <td>0.3985</td>\n",
              "      <td>0.12440</td>\n",
              "    </tr>\n",
              "    <tr>\n",
              "      <th>6</th>\n",
              "      <td>844359</td>\n",
              "      <td>M</td>\n",
              "      <td>18.25</td>\n",
              "      <td>19.98</td>\n",
              "      <td>119.60</td>\n",
              "      <td>1040.0</td>\n",
              "      <td>0.09463</td>\n",
              "      <td>0.10900</td>\n",
              "      <td>0.11270</td>\n",
              "      <td>0.07400</td>\n",
              "      <td>0.1794</td>\n",
              "      <td>0.05742</td>\n",
              "      <td>0.4467</td>\n",
              "      <td>0.7732</td>\n",
              "      <td>3.180</td>\n",
              "      <td>53.91</td>\n",
              "      <td>0.004314</td>\n",
              "      <td>0.01382</td>\n",
              "      <td>0.02254</td>\n",
              "      <td>0.01039</td>\n",
              "      <td>0.01369</td>\n",
              "      <td>0.002179</td>\n",
              "      <td>22.88</td>\n",
              "      <td>27.66</td>\n",
              "      <td>153.20</td>\n",
              "      <td>1606.0</td>\n",
              "      <td>0.1442</td>\n",
              "      <td>0.2576</td>\n",
              "      <td>0.3784</td>\n",
              "      <td>0.1932</td>\n",
              "      <td>0.3063</td>\n",
              "      <td>0.08368</td>\n",
              "    </tr>\n",
              "    <tr>\n",
              "      <th>7</th>\n",
              "      <td>84458202</td>\n",
              "      <td>M</td>\n",
              "      <td>13.71</td>\n",
              "      <td>20.83</td>\n",
              "      <td>90.20</td>\n",
              "      <td>577.9</td>\n",
              "      <td>0.11890</td>\n",
              "      <td>0.16450</td>\n",
              "      <td>0.09366</td>\n",
              "      <td>0.05985</td>\n",
              "      <td>0.2196</td>\n",
              "      <td>0.07451</td>\n",
              "      <td>0.5835</td>\n",
              "      <td>1.3770</td>\n",
              "      <td>3.856</td>\n",
              "      <td>50.96</td>\n",
              "      <td>0.008805</td>\n",
              "      <td>0.03029</td>\n",
              "      <td>0.02488</td>\n",
              "      <td>0.01448</td>\n",
              "      <td>0.01486</td>\n",
              "      <td>0.005412</td>\n",
              "      <td>17.06</td>\n",
              "      <td>28.14</td>\n",
              "      <td>110.60</td>\n",
              "      <td>897.0</td>\n",
              "      <td>0.1654</td>\n",
              "      <td>0.3682</td>\n",
              "      <td>0.2678</td>\n",
              "      <td>0.1556</td>\n",
              "      <td>0.3196</td>\n",
              "      <td>0.11510</td>\n",
              "    </tr>\n",
              "    <tr>\n",
              "      <th>8</th>\n",
              "      <td>844981</td>\n",
              "      <td>M</td>\n",
              "      <td>13.00</td>\n",
              "      <td>21.82</td>\n",
              "      <td>87.50</td>\n",
              "      <td>519.8</td>\n",
              "      <td>0.12730</td>\n",
              "      <td>0.19320</td>\n",
              "      <td>0.18590</td>\n",
              "      <td>0.09353</td>\n",
              "      <td>0.2350</td>\n",
              "      <td>0.07389</td>\n",
              "      <td>0.3063</td>\n",
              "      <td>1.0020</td>\n",
              "      <td>2.406</td>\n",
              "      <td>24.32</td>\n",
              "      <td>0.005731</td>\n",
              "      <td>0.03502</td>\n",
              "      <td>0.03553</td>\n",
              "      <td>0.01226</td>\n",
              "      <td>0.02143</td>\n",
              "      <td>0.003749</td>\n",
              "      <td>15.49</td>\n",
              "      <td>30.73</td>\n",
              "      <td>106.20</td>\n",
              "      <td>739.3</td>\n",
              "      <td>0.1703</td>\n",
              "      <td>0.5401</td>\n",
              "      <td>0.5390</td>\n",
              "      <td>0.2060</td>\n",
              "      <td>0.4378</td>\n",
              "      <td>0.10720</td>\n",
              "    </tr>\n",
              "    <tr>\n",
              "      <th>9</th>\n",
              "      <td>84501001</td>\n",
              "      <td>M</td>\n",
              "      <td>12.46</td>\n",
              "      <td>24.04</td>\n",
              "      <td>83.97</td>\n",
              "      <td>475.9</td>\n",
              "      <td>0.11860</td>\n",
              "      <td>0.23960</td>\n",
              "      <td>0.22730</td>\n",
              "      <td>0.08543</td>\n",
              "      <td>0.2030</td>\n",
              "      <td>0.08243</td>\n",
              "      <td>0.2976</td>\n",
              "      <td>1.5990</td>\n",
              "      <td>2.039</td>\n",
              "      <td>23.94</td>\n",
              "      <td>0.007149</td>\n",
              "      <td>0.07217</td>\n",
              "      <td>0.07743</td>\n",
              "      <td>0.01432</td>\n",
              "      <td>0.01789</td>\n",
              "      <td>0.010080</td>\n",
              "      <td>15.09</td>\n",
              "      <td>40.68</td>\n",
              "      <td>97.65</td>\n",
              "      <td>711.4</td>\n",
              "      <td>0.1853</td>\n",
              "      <td>1.0580</td>\n",
              "      <td>1.1050</td>\n",
              "      <td>0.2210</td>\n",
              "      <td>0.4366</td>\n",
              "      <td>0.20750</td>\n",
              "    </tr>\n",
              "  </tbody>\n",
              "</table>\n",
              "</div>"
            ],
            "text/plain": [
              "         id diagnosis  ...  symmetry_worst  fractal_dimension_worst\n",
              "0    842302         M  ...          0.4601                  0.11890\n",
              "1    842517         M  ...          0.2750                  0.08902\n",
              "2  84300903         M  ...          0.3613                  0.08758\n",
              "3  84348301         M  ...          0.6638                  0.17300\n",
              "4  84358402         M  ...          0.2364                  0.07678\n",
              "5    843786         M  ...          0.3985                  0.12440\n",
              "6    844359         M  ...          0.3063                  0.08368\n",
              "7  84458202         M  ...          0.3196                  0.11510\n",
              "8    844981         M  ...          0.4378                  0.10720\n",
              "9  84501001         M  ...          0.4366                  0.20750\n",
              "\n",
              "[10 rows x 32 columns]"
            ]
          },
          "metadata": {
            "tags": []
          },
          "execution_count": 6
        }
      ]
    },
    {
      "cell_type": "code",
      "metadata": {
        "id": "7yZiBC7ApE5F",
        "colab_type": "code",
        "colab": {
          "base_uri": "https://localhost:8080/",
          "height": 34
        },
        "outputId": "0e890629-b27a-4de6-bd75-d8d8e08b5dd6"
      },
      "source": [
        "df.shape"
      ],
      "execution_count": 7,
      "outputs": [
        {
          "output_type": "execute_result",
          "data": {
            "text/plain": [
              "(569, 32)"
            ]
          },
          "metadata": {
            "tags": []
          },
          "execution_count": 7
        }
      ]
    },
    {
      "cell_type": "markdown",
      "metadata": {
        "id": "uM4lqB0EeN8x",
        "colab_type": "text"
      },
      "source": [
        "Change pandas dataframe to a numpy array."
      ]
    },
    {
      "cell_type": "code",
      "metadata": {
        "id": "Q6p3XGhLmfYO",
        "colab_type": "code",
        "colab": {}
      },
      "source": [
        "X = df.iloc[:,2:32].values\n",
        "y = df[['diagnosis']].to_numpy()"
      ],
      "execution_count": 8,
      "outputs": []
    },
    {
      "cell_type": "code",
      "metadata": {
        "id": "Ex3nCLG2gdWR",
        "colab_type": "code",
        "colab": {
          "base_uri": "https://localhost:8080/",
          "height": 1000
        },
        "outputId": "9de88da7-7840-4c51-857c-8a12ccf9e4cc"
      },
      "source": [
        "print('MAX:\\n\\n', df.max(), '\\n\\nMIN:\\n\\n', df.min())"
      ],
      "execution_count": 9,
      "outputs": [
        {
          "output_type": "stream",
          "text": [
            "MAX:\n",
            "\n",
            " id                         911320502\n",
            "diagnosis                          M\n",
            "radius_mean                    28.11\n",
            "texture_mean                   39.28\n",
            "perimeter_mean                 188.5\n",
            "area_mean                       2501\n",
            "smoothness_mean               0.1634\n",
            "compactness_mean              0.3454\n",
            "concavity_mean                0.4268\n",
            "concave points_mean           0.2012\n",
            "symmetry_mean                  0.304\n",
            "fractal_dimension_mean       0.09744\n",
            "radius_se                      2.873\n",
            "texture_se                     4.885\n",
            "perimeter_se                   21.98\n",
            "area_se                        542.2\n",
            "smoothness_se                0.03113\n",
            "compactness_se                0.1354\n",
            "concavity_se                   0.396\n",
            "concave points_se            0.05279\n",
            "symmetry_se                  0.07895\n",
            "fractal_dimension_se         0.02984\n",
            "radius_worst                   36.04\n",
            "texture_worst                  49.54\n",
            "perimeter_worst                251.2\n",
            "area_worst                      4254\n",
            "smoothness_worst              0.2226\n",
            "compactness_worst              1.058\n",
            "concavity_worst                1.252\n",
            "concave points_worst           0.291\n",
            "symmetry_worst                0.6638\n",
            "fractal_dimension_worst       0.2075\n",
            "dtype: object \n",
            "\n",
            "MIN:\n",
            "\n",
            " id                              8670\n",
            "diagnosis                          B\n",
            "radius_mean                    6.981\n",
            "texture_mean                    9.71\n",
            "perimeter_mean                 43.79\n",
            "area_mean                      143.5\n",
            "smoothness_mean              0.05263\n",
            "compactness_mean             0.01938\n",
            "concavity_mean                     0\n",
            "concave points_mean                0\n",
            "symmetry_mean                  0.106\n",
            "fractal_dimension_mean       0.04996\n",
            "radius_se                     0.1115\n",
            "texture_se                    0.3602\n",
            "perimeter_se                   0.757\n",
            "area_se                        6.802\n",
            "smoothness_se               0.001713\n",
            "compactness_se              0.002252\n",
            "concavity_se                       0\n",
            "concave points_se                  0\n",
            "symmetry_se                 0.007882\n",
            "fractal_dimension_se       0.0008948\n",
            "radius_worst                    7.93\n",
            "texture_worst                  12.02\n",
            "perimeter_worst                50.41\n",
            "area_worst                     185.2\n",
            "smoothness_worst             0.07117\n",
            "compactness_worst            0.02729\n",
            "concavity_worst                    0\n",
            "concave points_worst               0\n",
            "symmetry_worst                0.1565\n",
            "fractal_dimension_worst      0.05504\n",
            "dtype: object\n"
          ],
          "name": "stdout"
        }
      ]
    },
    {
      "cell_type": "markdown",
      "metadata": {
        "id": "ZjvDKhnhrHpP",
        "colab_type": "text"
      },
      "source": [
        "Normalize the data using standardScaler since values range from 4254 to 0.0008948."
      ]
    },
    {
      "cell_type": "code",
      "metadata": {
        "id": "nKAODxGkrKOT",
        "colab_type": "code",
        "colab": {}
      },
      "source": [
        "from sklearn.preprocessing import StandardScaler\n",
        "sc = StandardScaler()\n",
        "X = sc.fit_transform(X)"
      ],
      "execution_count": 10,
      "outputs": []
    },
    {
      "cell_type": "code",
      "metadata": {
        "id": "ZiqeloDUrRSS",
        "colab_type": "code",
        "colab": {
          "base_uri": "https://localhost:8080/",
          "height": 238
        },
        "outputId": "fcba74d1-5af9-426f-b05c-81197e1ef03b"
      },
      "source": [
        "X"
      ],
      "execution_count": 11,
      "outputs": [
        {
          "output_type": "execute_result",
          "data": {
            "text/plain": [
              "array([[ 1.09706398, -2.07333501,  1.26993369, ...,  2.29607613,\n",
              "         2.75062224,  1.93701461],\n",
              "       [ 1.82982061, -0.35363241,  1.68595471, ...,  1.0870843 ,\n",
              "        -0.24388967,  0.28118999],\n",
              "       [ 1.57988811,  0.45618695,  1.56650313, ...,  1.95500035,\n",
              "         1.152255  ,  0.20139121],\n",
              "       ...,\n",
              "       [ 0.70228425,  2.0455738 ,  0.67267578, ...,  0.41406869,\n",
              "        -1.10454895, -0.31840916],\n",
              "       [ 1.83834103,  2.33645719,  1.98252415, ...,  2.28998549,\n",
              "         1.91908301,  2.21963528],\n",
              "       [-1.80840125,  1.22179204, -1.81438851, ..., -1.74506282,\n",
              "        -0.04813821, -0.75120669]])"
            ]
          },
          "metadata": {
            "tags": []
          },
          "execution_count": 11
        }
      ]
    },
    {
      "cell_type": "markdown",
      "metadata": {
        "id": "VMAvBUaOrm9Z",
        "colab_type": "text"
      },
      "source": [
        "Since diagnosis are not numerical values, one hot encode the diagnosis class."
      ]
    },
    {
      "cell_type": "code",
      "metadata": {
        "id": "CMkSUzh7ruBS",
        "colab_type": "code",
        "colab": {}
      },
      "source": [
        "from sklearn.preprocessing import OneHotEncoder\n",
        "ohe = OneHotEncoder()\n",
        "y = ohe.fit_transform(y).toarray()"
      ],
      "execution_count": 12,
      "outputs": []
    },
    {
      "cell_type": "code",
      "metadata": {
        "id": "DTU7q4J2sAcH",
        "colab_type": "code",
        "colab": {
          "base_uri": "https://localhost:8080/",
          "height": 136
        },
        "outputId": "068b738d-ecfb-4e30-8da6-aaa9a0130219"
      },
      "source": [
        "y"
      ],
      "execution_count": 13,
      "outputs": [
        {
          "output_type": "execute_result",
          "data": {
            "text/plain": [
              "array([[0., 1.],\n",
              "       [0., 1.],\n",
              "       [0., 1.],\n",
              "       ...,\n",
              "       [0., 1.],\n",
              "       [0., 1.],\n",
              "       [1., 0.]])"
            ]
          },
          "metadata": {
            "tags": []
          },
          "execution_count": 13
        }
      ]
    },
    {
      "cell_type": "markdown",
      "metadata": {
        "id": "FQ_yYGT1hCJC",
        "colab_type": "text"
      },
      "source": [
        "So 1 means Malignant and 0 means Benign. "
      ]
    },
    {
      "cell_type": "markdown",
      "metadata": {
        "id": "prQheiNjs1f1",
        "colab_type": "text"
      },
      "source": [
        "Split data into training and test data at the ratio of 0.3."
      ]
    },
    {
      "cell_type": "code",
      "metadata": {
        "id": "ILrqwQuRs0-m",
        "colab_type": "code",
        "colab": {}
      },
      "source": [
        "from sklearn.model_selection import train_test_split\n",
        "X_train,X_test,y_train,y_test = train_test_split(X,y,test_size = 0.3)"
      ],
      "execution_count": 14,
      "outputs": []
    },
    {
      "cell_type": "markdown",
      "metadata": {
        "id": "RaVddFTCtFKS",
        "colab_type": "text"
      },
      "source": [
        "# Building Neural Network\n"
      ]
    },
    {
      "cell_type": "markdown",
      "metadata": {
        "id": "tkxmyy8wtTVc",
        "colab_type": "text"
      },
      "source": [
        "First fully connected neural network."
      ]
    },
    {
      "cell_type": "code",
      "metadata": {
        "id": "WFxZeeKrQ02t",
        "colab_type": "code",
        "colab": {
          "base_uri": "https://localhost:8080/",
          "height": 1000
        },
        "outputId": "a58275b9-48c6-4c3d-934b-031ecd34b2df"
      },
      "source": [
        "from sklearn.metrics import r2_score\n",
        "from sklearn.metrics import mean_squared_error as mse,accuracy_score\n",
        "\n",
        "from keras.models import Sequential\n",
        "from keras.layers import Dense, Activation\n",
        "from keras.optimizers import Adam, SGD\n",
        "\n",
        "X_train, X_test, y_train, y_test = train_test_split(X, y,\n",
        "                                                    test_size=0.3,\n",
        "                                                    random_state=42)\n",
        "\n",
        "model = Sequential()\n",
        "model.add(Dense(4, input_shape=(30,), activation='tanh'))\n",
        "model.add(Dense(2, activation='tanh'))\n",
        "model.add(Dense(2, activation='sigmoid'))\n",
        "model.compile(Adam(lr=0.05), 'binary_crossentropy', metrics=['accuracy'])\n",
        "\n",
        "model.fit(X_train, y_train, validation_data = (X_test,y_test), epochs=100, batch_size=64)"
      ],
      "execution_count": 15,
      "outputs": [
        {
          "output_type": "stream",
          "text": [
            "Using TensorFlow backend.\n"
          ],
          "name": "stderr"
        },
        {
          "output_type": "stream",
          "text": [
            "Train on 398 samples, validate on 171 samples\n",
            "Epoch 1/100\n",
            "398/398 [==============================] - 0s 811us/step - loss: 0.6553 - accuracy: 0.6520 - val_loss: 0.5015 - val_accuracy: 0.9240\n",
            "Epoch 2/100\n",
            "398/398 [==============================] - 0s 39us/step - loss: 0.4402 - accuracy: 0.9221 - val_loss: 0.3094 - val_accuracy: 0.9766\n",
            "Epoch 3/100\n",
            "398/398 [==============================] - 0s 36us/step - loss: 0.2707 - accuracy: 0.9711 - val_loss: 0.1845 - val_accuracy: 0.9854\n",
            "Epoch 4/100\n",
            "398/398 [==============================] - 0s 35us/step - loss: 0.1776 - accuracy: 0.9749 - val_loss: 0.1372 - val_accuracy: 0.9795\n",
            "Epoch 5/100\n",
            "398/398 [==============================] - 0s 35us/step - loss: 0.1316 - accuracy: 0.9749 - val_loss: 0.1258 - val_accuracy: 0.9708\n",
            "Epoch 6/100\n",
            "398/398 [==============================] - 0s 35us/step - loss: 0.1110 - accuracy: 0.9774 - val_loss: 0.0958 - val_accuracy: 0.9708\n",
            "Epoch 7/100\n",
            "398/398 [==============================] - 0s 35us/step - loss: 0.1017 - accuracy: 0.9799 - val_loss: 0.0860 - val_accuracy: 0.9795\n",
            "Epoch 8/100\n",
            "398/398 [==============================] - 0s 34us/step - loss: 0.0840 - accuracy: 0.9837 - val_loss: 0.0659 - val_accuracy: 0.9883\n",
            "Epoch 9/100\n",
            "398/398 [==============================] - 0s 36us/step - loss: 0.0847 - accuracy: 0.9812 - val_loss: 0.0630 - val_accuracy: 0.9825\n",
            "Epoch 10/100\n",
            "398/398 [==============================] - 0s 35us/step - loss: 0.0734 - accuracy: 0.9824 - val_loss: 0.0775 - val_accuracy: 0.9766\n",
            "Epoch 11/100\n",
            "398/398 [==============================] - 0s 34us/step - loss: 0.0717 - accuracy: 0.9837 - val_loss: 0.0922 - val_accuracy: 0.9766\n",
            "Epoch 12/100\n",
            "398/398 [==============================] - 0s 36us/step - loss: 0.0618 - accuracy: 0.9862 - val_loss: 0.0774 - val_accuracy: 0.9795\n",
            "Epoch 13/100\n",
            "398/398 [==============================] - 0s 43us/step - loss: 0.0635 - accuracy: 0.9862 - val_loss: 0.0794 - val_accuracy: 0.9825\n",
            "Epoch 14/100\n",
            "398/398 [==============================] - 0s 35us/step - loss: 0.0556 - accuracy: 0.9874 - val_loss: 0.1128 - val_accuracy: 0.9649\n",
            "Epoch 15/100\n",
            "398/398 [==============================] - 0s 35us/step - loss: 0.0533 - accuracy: 0.9849 - val_loss: 0.1163 - val_accuracy: 0.9649\n",
            "Epoch 16/100\n",
            "398/398 [==============================] - 0s 40us/step - loss: 0.0417 - accuracy: 0.9937 - val_loss: 0.1056 - val_accuracy: 0.9708\n",
            "Epoch 17/100\n",
            "398/398 [==============================] - 0s 36us/step - loss: 0.0404 - accuracy: 0.9925 - val_loss: 0.0994 - val_accuracy: 0.9737\n",
            "Epoch 18/100\n",
            "398/398 [==============================] - 0s 36us/step - loss: 0.0353 - accuracy: 0.9950 - val_loss: 0.0962 - val_accuracy: 0.9766\n",
            "Epoch 19/100\n",
            "398/398 [==============================] - 0s 35us/step - loss: 0.0332 - accuracy: 0.9937 - val_loss: 0.1006 - val_accuracy: 0.9766\n",
            "Epoch 20/100\n",
            "398/398 [==============================] - 0s 35us/step - loss: 0.0297 - accuracy: 0.9950 - val_loss: 0.0966 - val_accuracy: 0.9766\n",
            "Epoch 21/100\n",
            "398/398 [==============================] - 0s 37us/step - loss: 0.0282 - accuracy: 0.9950 - val_loss: 0.1007 - val_accuracy: 0.9766\n",
            "Epoch 22/100\n",
            "398/398 [==============================] - 0s 38us/step - loss: 0.0277 - accuracy: 0.9950 - val_loss: 0.1162 - val_accuracy: 0.9649\n",
            "Epoch 23/100\n",
            "398/398 [==============================] - 0s 37us/step - loss: 0.0258 - accuracy: 0.9962 - val_loss: 0.1123 - val_accuracy: 0.9766\n",
            "Epoch 24/100\n",
            "398/398 [==============================] - 0s 37us/step - loss: 0.0338 - accuracy: 0.9925 - val_loss: 0.1144 - val_accuracy: 0.9737\n",
            "Epoch 25/100\n",
            "398/398 [==============================] - 0s 35us/step - loss: 0.0301 - accuracy: 0.9950 - val_loss: 0.1010 - val_accuracy: 0.9766\n",
            "Epoch 26/100\n",
            "398/398 [==============================] - 0s 40us/step - loss: 0.0387 - accuracy: 0.9925 - val_loss: 0.0872 - val_accuracy: 0.9766\n",
            "Epoch 27/100\n",
            "398/398 [==============================] - 0s 39us/step - loss: 0.0311 - accuracy: 0.9950 - val_loss: 0.0871 - val_accuracy: 0.9795\n",
            "Epoch 28/100\n",
            "398/398 [==============================] - 0s 39us/step - loss: 0.0289 - accuracy: 0.9950 - val_loss: 0.0875 - val_accuracy: 0.9766\n",
            "Epoch 29/100\n",
            "398/398 [==============================] - 0s 36us/step - loss: 0.0254 - accuracy: 0.9950 - val_loss: 0.0970 - val_accuracy: 0.9766\n",
            "Epoch 30/100\n",
            "398/398 [==============================] - 0s 43us/step - loss: 0.0205 - accuracy: 0.9975 - val_loss: 0.1048 - val_accuracy: 0.9708\n",
            "Epoch 31/100\n",
            "398/398 [==============================] - 0s 37us/step - loss: 0.0203 - accuracy: 0.9975 - val_loss: 0.0955 - val_accuracy: 0.9766\n",
            "Epoch 32/100\n",
            "398/398 [==============================] - 0s 39us/step - loss: 0.0198 - accuracy: 0.9975 - val_loss: 0.0888 - val_accuracy: 0.9825\n",
            "Epoch 33/100\n",
            "398/398 [==============================] - 0s 38us/step - loss: 0.0196 - accuracy: 0.9975 - val_loss: 0.0865 - val_accuracy: 0.9825\n",
            "Epoch 34/100\n",
            "398/398 [==============================] - 0s 34us/step - loss: 0.0193 - accuracy: 0.9975 - val_loss: 0.0858 - val_accuracy: 0.9825\n",
            "Epoch 35/100\n",
            "398/398 [==============================] - 0s 35us/step - loss: 0.0190 - accuracy: 0.9975 - val_loss: 0.0870 - val_accuracy: 0.9766\n",
            "Epoch 36/100\n",
            "398/398 [==============================] - 0s 37us/step - loss: 0.0189 - accuracy: 0.9975 - val_loss: 0.0896 - val_accuracy: 0.9766\n",
            "Epoch 37/100\n",
            "398/398 [==============================] - 0s 39us/step - loss: 0.0187 - accuracy: 0.9975 - val_loss: 0.0885 - val_accuracy: 0.9766\n",
            "Epoch 38/100\n",
            "398/398 [==============================] - 0s 37us/step - loss: 0.0185 - accuracy: 0.9975 - val_loss: 0.0881 - val_accuracy: 0.9766\n",
            "Epoch 39/100\n",
            "398/398 [==============================] - 0s 41us/step - loss: 0.0184 - accuracy: 0.9975 - val_loss: 0.0893 - val_accuracy: 0.9766\n",
            "Epoch 40/100\n",
            "398/398 [==============================] - 0s 35us/step - loss: 0.0183 - accuracy: 0.9975 - val_loss: 0.0900 - val_accuracy: 0.9766\n",
            "Epoch 41/100\n",
            "398/398 [==============================] - 0s 39us/step - loss: 0.0182 - accuracy: 0.9975 - val_loss: 0.0895 - val_accuracy: 0.9766\n",
            "Epoch 42/100\n",
            "398/398 [==============================] - 0s 52us/step - loss: 0.0181 - accuracy: 0.9975 - val_loss: 0.0888 - val_accuracy: 0.9766\n",
            "Epoch 43/100\n",
            "398/398 [==============================] - 0s 44us/step - loss: 0.0180 - accuracy: 0.9975 - val_loss: 0.0875 - val_accuracy: 0.9766\n",
            "Epoch 44/100\n",
            "398/398 [==============================] - 0s 45us/step - loss: 0.0180 - accuracy: 0.9975 - val_loss: 0.0862 - val_accuracy: 0.9766\n",
            "Epoch 45/100\n",
            "398/398 [==============================] - 0s 39us/step - loss: 0.0179 - accuracy: 0.9975 - val_loss: 0.0848 - val_accuracy: 0.9766\n",
            "Epoch 46/100\n",
            "398/398 [==============================] - 0s 40us/step - loss: 0.0178 - accuracy: 0.9975 - val_loss: 0.0846 - val_accuracy: 0.9766\n",
            "Epoch 47/100\n",
            "398/398 [==============================] - 0s 39us/step - loss: 0.0178 - accuracy: 0.9975 - val_loss: 0.0842 - val_accuracy: 0.9766\n",
            "Epoch 48/100\n",
            "398/398 [==============================] - 0s 34us/step - loss: 0.0178 - accuracy: 0.9975 - val_loss: 0.0840 - val_accuracy: 0.9766\n",
            "Epoch 49/100\n",
            "398/398 [==============================] - 0s 37us/step - loss: 0.0178 - accuracy: 0.9975 - val_loss: 0.0837 - val_accuracy: 0.9766\n",
            "Epoch 50/100\n",
            "398/398 [==============================] - 0s 37us/step - loss: 0.0177 - accuracy: 0.9975 - val_loss: 0.0835 - val_accuracy: 0.9766\n",
            "Epoch 51/100\n",
            "398/398 [==============================] - 0s 35us/step - loss: 0.0177 - accuracy: 0.9975 - val_loss: 0.0845 - val_accuracy: 0.9766\n",
            "Epoch 52/100\n",
            "398/398 [==============================] - 0s 34us/step - loss: 0.0176 - accuracy: 0.9975 - val_loss: 0.0842 - val_accuracy: 0.9766\n",
            "Epoch 53/100\n",
            "398/398 [==============================] - 0s 35us/step - loss: 0.0176 - accuracy: 0.9975 - val_loss: 0.0843 - val_accuracy: 0.9766\n",
            "Epoch 54/100\n",
            "398/398 [==============================] - 0s 42us/step - loss: 0.0175 - accuracy: 0.9975 - val_loss: 0.0853 - val_accuracy: 0.9766\n",
            "Epoch 55/100\n",
            "398/398 [==============================] - 0s 43us/step - loss: 0.0175 - accuracy: 0.9975 - val_loss: 0.0859 - val_accuracy: 0.9766\n",
            "Epoch 56/100\n",
            "398/398 [==============================] - 0s 37us/step - loss: 0.0174 - accuracy: 0.9975 - val_loss: 0.0880 - val_accuracy: 0.9766\n",
            "Epoch 57/100\n",
            "398/398 [==============================] - 0s 37us/step - loss: 0.0174 - accuracy: 0.9975 - val_loss: 0.0878 - val_accuracy: 0.9766\n",
            "Epoch 58/100\n",
            "398/398 [==============================] - 0s 36us/step - loss: 0.0174 - accuracy: 0.9975 - val_loss: 0.0875 - val_accuracy: 0.9766\n",
            "Epoch 59/100\n",
            "398/398 [==============================] - 0s 36us/step - loss: 0.0173 - accuracy: 0.9975 - val_loss: 0.0871 - val_accuracy: 0.9766\n",
            "Epoch 60/100\n",
            "398/398 [==============================] - 0s 37us/step - loss: 0.0173 - accuracy: 0.9975 - val_loss: 0.0867 - val_accuracy: 0.9766\n",
            "Epoch 61/100\n",
            "398/398 [==============================] - 0s 34us/step - loss: 0.0173 - accuracy: 0.9975 - val_loss: 0.0860 - val_accuracy: 0.9766\n",
            "Epoch 62/100\n",
            "398/398 [==============================] - 0s 35us/step - loss: 0.0173 - accuracy: 0.9975 - val_loss: 0.0854 - val_accuracy: 0.9766\n",
            "Epoch 63/100\n",
            "398/398 [==============================] - 0s 35us/step - loss: 0.0173 - accuracy: 0.9975 - val_loss: 0.0854 - val_accuracy: 0.9766\n",
            "Epoch 64/100\n",
            "398/398 [==============================] - 0s 34us/step - loss: 0.0172 - accuracy: 0.9975 - val_loss: 0.0857 - val_accuracy: 0.9766\n",
            "Epoch 65/100\n",
            "398/398 [==============================] - 0s 36us/step - loss: 0.0172 - accuracy: 0.9975 - val_loss: 0.0860 - val_accuracy: 0.9766\n",
            "Epoch 66/100\n",
            "398/398 [==============================] - 0s 36us/step - loss: 0.0172 - accuracy: 0.9975 - val_loss: 0.0863 - val_accuracy: 0.9766\n",
            "Epoch 67/100\n",
            "398/398 [==============================] - 0s 37us/step - loss: 0.0172 - accuracy: 0.9975 - val_loss: 0.0864 - val_accuracy: 0.9766\n",
            "Epoch 68/100\n",
            "398/398 [==============================] - 0s 40us/step - loss: 0.0172 - accuracy: 0.9975 - val_loss: 0.0872 - val_accuracy: 0.9766\n",
            "Epoch 69/100\n",
            "398/398 [==============================] - 0s 42us/step - loss: 0.0171 - accuracy: 0.9975 - val_loss: 0.0870 - val_accuracy: 0.9766\n",
            "Epoch 70/100\n",
            "398/398 [==============================] - 0s 37us/step - loss: 0.0171 - accuracy: 0.9975 - val_loss: 0.0873 - val_accuracy: 0.9766\n",
            "Epoch 71/100\n",
            "398/398 [==============================] - 0s 37us/step - loss: 0.0170 - accuracy: 0.9975 - val_loss: 0.0873 - val_accuracy: 0.9766\n",
            "Epoch 72/100\n",
            "398/398 [==============================] - 0s 36us/step - loss: 0.0172 - accuracy: 0.9975 - val_loss: 0.0877 - val_accuracy: 0.9766\n",
            "Epoch 73/100\n",
            "398/398 [==============================] - 0s 36us/step - loss: 0.0173 - accuracy: 0.9975 - val_loss: 0.0875 - val_accuracy: 0.9766\n",
            "Epoch 74/100\n",
            "398/398 [==============================] - 0s 38us/step - loss: 0.0173 - accuracy: 0.9975 - val_loss: 0.0875 - val_accuracy: 0.9766\n",
            "Epoch 75/100\n",
            "398/398 [==============================] - 0s 38us/step - loss: 0.0173 - accuracy: 0.9975 - val_loss: 0.0868 - val_accuracy: 0.9766\n",
            "Epoch 76/100\n",
            "398/398 [==============================] - 0s 38us/step - loss: 0.0173 - accuracy: 0.9975 - val_loss: 0.0865 - val_accuracy: 0.9766\n",
            "Epoch 77/100\n",
            "398/398 [==============================] - 0s 38us/step - loss: 0.0172 - accuracy: 0.9975 - val_loss: 0.0868 - val_accuracy: 0.9766\n",
            "Epoch 78/100\n",
            "398/398 [==============================] - 0s 43us/step - loss: 0.0173 - accuracy: 0.9975 - val_loss: 0.0868 - val_accuracy: 0.9766\n",
            "Epoch 79/100\n",
            "398/398 [==============================] - 0s 43us/step - loss: 0.0173 - accuracy: 0.9975 - val_loss: 0.0870 - val_accuracy: 0.9766\n",
            "Epoch 80/100\n",
            "398/398 [==============================] - 0s 48us/step - loss: 0.0172 - accuracy: 0.9975 - val_loss: 0.0870 - val_accuracy: 0.9795\n",
            "Epoch 81/100\n",
            "398/398 [==============================] - 0s 36us/step - loss: 0.0172 - accuracy: 0.9975 - val_loss: 0.0870 - val_accuracy: 0.9795\n",
            "Epoch 82/100\n",
            "398/398 [==============================] - 0s 38us/step - loss: 0.0171 - accuracy: 0.9975 - val_loss: 0.0868 - val_accuracy: 0.9825\n",
            "Epoch 83/100\n",
            "398/398 [==============================] - 0s 40us/step - loss: 0.0171 - accuracy: 0.9975 - val_loss: 0.0868 - val_accuracy: 0.9825\n",
            "Epoch 84/100\n",
            "398/398 [==============================] - 0s 34us/step - loss: 0.0170 - accuracy: 0.9975 - val_loss: 0.0870 - val_accuracy: 0.9825\n",
            "Epoch 85/100\n",
            "398/398 [==============================] - 0s 36us/step - loss: 0.0170 - accuracy: 0.9975 - val_loss: 0.0874 - val_accuracy: 0.9825\n",
            "Epoch 86/100\n",
            "398/398 [==============================] - 0s 35us/step - loss: 0.0169 - accuracy: 0.9975 - val_loss: 0.0876 - val_accuracy: 0.9825\n",
            "Epoch 87/100\n",
            "398/398 [==============================] - 0s 35us/step - loss: 0.0170 - accuracy: 0.9975 - val_loss: 0.0888 - val_accuracy: 0.9766\n",
            "Epoch 88/100\n",
            "398/398 [==============================] - 0s 35us/step - loss: 0.0169 - accuracy: 0.9975 - val_loss: 0.0894 - val_accuracy: 0.9766\n",
            "Epoch 89/100\n",
            "398/398 [==============================] - 0s 43us/step - loss: 0.0169 - accuracy: 0.9975 - val_loss: 0.0895 - val_accuracy: 0.9825\n",
            "Epoch 90/100\n",
            "398/398 [==============================] - 0s 40us/step - loss: 0.0169 - accuracy: 0.9975 - val_loss: 0.0894 - val_accuracy: 0.9825\n",
            "Epoch 91/100\n",
            "398/398 [==============================] - 0s 39us/step - loss: 0.0169 - accuracy: 0.9975 - val_loss: 0.0898 - val_accuracy: 0.9825\n",
            "Epoch 92/100\n",
            "398/398 [==============================] - 0s 44us/step - loss: 0.0169 - accuracy: 0.9975 - val_loss: 0.0899 - val_accuracy: 0.9825\n",
            "Epoch 93/100\n",
            "398/398 [==============================] - 0s 43us/step - loss: 0.0169 - accuracy: 0.9975 - val_loss: 0.0898 - val_accuracy: 0.9825\n",
            "Epoch 94/100\n",
            "398/398 [==============================] - 0s 46us/step - loss: 0.0168 - accuracy: 0.9975 - val_loss: 0.0895 - val_accuracy: 0.9825\n",
            "Epoch 95/100\n",
            "398/398 [==============================] - 0s 43us/step - loss: 0.0168 - accuracy: 0.9975 - val_loss: 0.0893 - val_accuracy: 0.9825\n",
            "Epoch 96/100\n",
            "398/398 [==============================] - 0s 36us/step - loss: 0.0168 - accuracy: 0.9975 - val_loss: 0.0893 - val_accuracy: 0.9825\n",
            "Epoch 97/100\n",
            "398/398 [==============================] - 0s 36us/step - loss: 0.0168 - accuracy: 0.9975 - val_loss: 0.0893 - val_accuracy: 0.9825\n",
            "Epoch 98/100\n",
            "398/398 [==============================] - 0s 51us/step - loss: 0.0168 - accuracy: 0.9975 - val_loss: 0.0894 - val_accuracy: 0.9825\n",
            "Epoch 99/100\n",
            "398/398 [==============================] - 0s 39us/step - loss: 0.0168 - accuracy: 0.9975 - val_loss: 0.0891 - val_accuracy: 0.9825\n",
            "Epoch 100/100\n",
            "398/398 [==============================] - 0s 39us/step - loss: 0.0168 - accuracy: 0.9975 - val_loss: 0.0891 - val_accuracy: 0.9825\n"
          ],
          "name": "stdout"
        },
        {
          "output_type": "execute_result",
          "data": {
            "text/plain": [
              "<keras.callbacks.callbacks.History at 0x7ff8ed010da0>"
            ]
          },
          "metadata": {
            "tags": []
          },
          "execution_count": 15
        }
      ]
    },
    {
      "cell_type": "code",
      "metadata": {
        "id": "2KodXby2tSAs",
        "colab_type": "code",
        "colab": {
          "base_uri": "https://localhost:8080/",
          "height": 1000
        },
        "outputId": "43008cd1-85d3-4624-96e0-7d50c905906f"
      },
      "source": [
        "model = Sequential()\n",
        "model.add(Dense(16, input_dim=30, activation='relu'))\n",
        "model.add(Dense(12, activation='relu'))\n",
        "model.add(Dense(2, activation='sigmoid'))\n",
        "\n",
        "model.compile(loss='binary_crossentropy', optimizer='adam', metrics=['accuracy'])\n",
        "history = model.fit(X_train, y_train, validation_data = (X_test,y_test), epochs=100, batch_size=64)"
      ],
      "execution_count": 16,
      "outputs": [
        {
          "output_type": "stream",
          "text": [
            "Train on 398 samples, validate on 171 samples\n",
            "Epoch 1/100\n",
            "398/398 [==============================] - 0s 302us/step - loss: 0.7571 - accuracy: 0.4623 - val_loss: 0.7195 - val_accuracy: 0.4825\n",
            "Epoch 2/100\n",
            "398/398 [==============================] - 0s 37us/step - loss: 0.7093 - accuracy: 0.5126 - val_loss: 0.6725 - val_accuracy: 0.5526\n",
            "Epoch 3/100\n",
            "398/398 [==============================] - 0s 34us/step - loss: 0.6656 - accuracy: 0.5590 - val_loss: 0.6294 - val_accuracy: 0.6140\n",
            "Epoch 4/100\n",
            "398/398 [==============================] - 0s 35us/step - loss: 0.6251 - accuracy: 0.6520 - val_loss: 0.5889 - val_accuracy: 0.6520\n",
            "Epoch 5/100\n",
            "398/398 [==============================] - 0s 42us/step - loss: 0.5874 - accuracy: 0.7186 - val_loss: 0.5493 - val_accuracy: 0.7456\n",
            "Epoch 6/100\n",
            "398/398 [==============================] - 0s 35us/step - loss: 0.5489 - accuracy: 0.7525 - val_loss: 0.5116 - val_accuracy: 0.7778\n",
            "Epoch 7/100\n",
            "398/398 [==============================] - 0s 35us/step - loss: 0.5127 - accuracy: 0.7688 - val_loss: 0.4771 - val_accuracy: 0.7982\n",
            "Epoch 8/100\n",
            "398/398 [==============================] - 0s 34us/step - loss: 0.4801 - accuracy: 0.7977 - val_loss: 0.4436 - val_accuracy: 0.8304\n",
            "Epoch 9/100\n",
            "398/398 [==============================] - 0s 36us/step - loss: 0.4480 - accuracy: 0.8191 - val_loss: 0.4122 - val_accuracy: 0.8450\n",
            "Epoch 10/100\n",
            "398/398 [==============================] - 0s 40us/step - loss: 0.4182 - accuracy: 0.8467 - val_loss: 0.3814 - val_accuracy: 0.8743\n",
            "Epoch 11/100\n",
            "398/398 [==============================] - 0s 41us/step - loss: 0.3883 - accuracy: 0.8794 - val_loss: 0.3480 - val_accuracy: 0.9152\n",
            "Epoch 12/100\n",
            "398/398 [==============================] - 0s 44us/step - loss: 0.3564 - accuracy: 0.9008 - val_loss: 0.3130 - val_accuracy: 0.9357\n",
            "Epoch 13/100\n",
            "398/398 [==============================] - 0s 37us/step - loss: 0.3238 - accuracy: 0.9221 - val_loss: 0.2789 - val_accuracy: 0.9415\n",
            "Epoch 14/100\n",
            "398/398 [==============================] - 0s 38us/step - loss: 0.2923 - accuracy: 0.9309 - val_loss: 0.2471 - val_accuracy: 0.9474\n",
            "Epoch 15/100\n",
            "398/398 [==============================] - 0s 38us/step - loss: 0.2634 - accuracy: 0.9422 - val_loss: 0.2196 - val_accuracy: 0.9474\n",
            "Epoch 16/100\n",
            "398/398 [==============================] - 0s 40us/step - loss: 0.2379 - accuracy: 0.9460 - val_loss: 0.1969 - val_accuracy: 0.9503\n",
            "Epoch 17/100\n",
            "398/398 [==============================] - 0s 40us/step - loss: 0.2163 - accuracy: 0.9523 - val_loss: 0.1774 - val_accuracy: 0.9503\n",
            "Epoch 18/100\n",
            "398/398 [==============================] - 0s 42us/step - loss: 0.1972 - accuracy: 0.9560 - val_loss: 0.1612 - val_accuracy: 0.9561\n",
            "Epoch 19/100\n",
            "398/398 [==============================] - 0s 41us/step - loss: 0.1816 - accuracy: 0.9585 - val_loss: 0.1479 - val_accuracy: 0.9561\n",
            "Epoch 20/100\n",
            "398/398 [==============================] - 0s 37us/step - loss: 0.1686 - accuracy: 0.9573 - val_loss: 0.1363 - val_accuracy: 0.9591\n",
            "Epoch 21/100\n",
            "398/398 [==============================] - 0s 36us/step - loss: 0.1569 - accuracy: 0.9611 - val_loss: 0.1267 - val_accuracy: 0.9561\n",
            "Epoch 22/100\n",
            "398/398 [==============================] - 0s 36us/step - loss: 0.1476 - accuracy: 0.9611 - val_loss: 0.1182 - val_accuracy: 0.9620\n",
            "Epoch 23/100\n",
            "398/398 [==============================] - 0s 44us/step - loss: 0.1391 - accuracy: 0.9648 - val_loss: 0.1104 - val_accuracy: 0.9620\n",
            "Epoch 24/100\n",
            "398/398 [==============================] - 0s 40us/step - loss: 0.1319 - accuracy: 0.9648 - val_loss: 0.1046 - val_accuracy: 0.9620\n",
            "Epoch 25/100\n",
            "398/398 [==============================] - 0s 36us/step - loss: 0.1255 - accuracy: 0.9648 - val_loss: 0.0992 - val_accuracy: 0.9649\n",
            "Epoch 26/100\n",
            "398/398 [==============================] - 0s 42us/step - loss: 0.1202 - accuracy: 0.9661 - val_loss: 0.0955 - val_accuracy: 0.9708\n",
            "Epoch 27/100\n",
            "398/398 [==============================] - 0s 38us/step - loss: 0.1151 - accuracy: 0.9686 - val_loss: 0.0915 - val_accuracy: 0.9766\n",
            "Epoch 28/100\n",
            "398/398 [==============================] - 0s 58us/step - loss: 0.1111 - accuracy: 0.9673 - val_loss: 0.0880 - val_accuracy: 0.9795\n",
            "Epoch 29/100\n",
            "398/398 [==============================] - 0s 40us/step - loss: 0.1069 - accuracy: 0.9686 - val_loss: 0.0843 - val_accuracy: 0.9795\n",
            "Epoch 30/100\n",
            "398/398 [==============================] - 0s 39us/step - loss: 0.1031 - accuracy: 0.9698 - val_loss: 0.0807 - val_accuracy: 0.9795\n",
            "Epoch 31/100\n",
            "398/398 [==============================] - 0s 36us/step - loss: 0.0997 - accuracy: 0.9724 - val_loss: 0.0772 - val_accuracy: 0.9795\n",
            "Epoch 32/100\n",
            "398/398 [==============================] - 0s 39us/step - loss: 0.0965 - accuracy: 0.9749 - val_loss: 0.0745 - val_accuracy: 0.9795\n",
            "Epoch 33/100\n",
            "398/398 [==============================] - 0s 44us/step - loss: 0.0935 - accuracy: 0.9749 - val_loss: 0.0719 - val_accuracy: 0.9795\n",
            "Epoch 34/100\n",
            "398/398 [==============================] - 0s 40us/step - loss: 0.0905 - accuracy: 0.9774 - val_loss: 0.0696 - val_accuracy: 0.9795\n",
            "Epoch 35/100\n",
            "398/398 [==============================] - 0s 37us/step - loss: 0.0882 - accuracy: 0.9774 - val_loss: 0.0672 - val_accuracy: 0.9795\n",
            "Epoch 36/100\n",
            "398/398 [==============================] - 0s 37us/step - loss: 0.0857 - accuracy: 0.9774 - val_loss: 0.0650 - val_accuracy: 0.9825\n",
            "Epoch 37/100\n",
            "398/398 [==============================] - 0s 38us/step - loss: 0.0835 - accuracy: 0.9799 - val_loss: 0.0633 - val_accuracy: 0.9825\n",
            "Epoch 38/100\n",
            "398/398 [==============================] - 0s 37us/step - loss: 0.0816 - accuracy: 0.9799 - val_loss: 0.0615 - val_accuracy: 0.9825\n",
            "Epoch 39/100\n",
            "398/398 [==============================] - 0s 34us/step - loss: 0.0798 - accuracy: 0.9799 - val_loss: 0.0601 - val_accuracy: 0.9795\n",
            "Epoch 40/100\n",
            "398/398 [==============================] - 0s 37us/step - loss: 0.0780 - accuracy: 0.9799 - val_loss: 0.0588 - val_accuracy: 0.9825\n",
            "Epoch 41/100\n",
            "398/398 [==============================] - 0s 41us/step - loss: 0.0764 - accuracy: 0.9799 - val_loss: 0.0581 - val_accuracy: 0.9825\n",
            "Epoch 42/100\n",
            "398/398 [==============================] - 0s 38us/step - loss: 0.0749 - accuracy: 0.9812 - val_loss: 0.0571 - val_accuracy: 0.9825\n",
            "Epoch 43/100\n",
            "398/398 [==============================] - 0s 39us/step - loss: 0.0734 - accuracy: 0.9812 - val_loss: 0.0557 - val_accuracy: 0.9825\n",
            "Epoch 44/100\n",
            "398/398 [==============================] - 0s 40us/step - loss: 0.0719 - accuracy: 0.9812 - val_loss: 0.0546 - val_accuracy: 0.9854\n",
            "Epoch 45/100\n",
            "398/398 [==============================] - 0s 34us/step - loss: 0.0706 - accuracy: 0.9824 - val_loss: 0.0536 - val_accuracy: 0.9854\n",
            "Epoch 46/100\n",
            "398/398 [==============================] - 0s 36us/step - loss: 0.0694 - accuracy: 0.9812 - val_loss: 0.0530 - val_accuracy: 0.9854\n",
            "Epoch 47/100\n",
            "398/398 [==============================] - 0s 35us/step - loss: 0.0681 - accuracy: 0.9812 - val_loss: 0.0524 - val_accuracy: 0.9854\n",
            "Epoch 48/100\n",
            "398/398 [==============================] - 0s 35us/step - loss: 0.0669 - accuracy: 0.9824 - val_loss: 0.0514 - val_accuracy: 0.9854\n",
            "Epoch 49/100\n",
            "398/398 [==============================] - 0s 51us/step - loss: 0.0658 - accuracy: 0.9824 - val_loss: 0.0508 - val_accuracy: 0.9854\n",
            "Epoch 50/100\n",
            "398/398 [==============================] - 0s 48us/step - loss: 0.0646 - accuracy: 0.9824 - val_loss: 0.0500 - val_accuracy: 0.9854\n",
            "Epoch 51/100\n",
            "398/398 [==============================] - 0s 35us/step - loss: 0.0635 - accuracy: 0.9837 - val_loss: 0.0492 - val_accuracy: 0.9883\n",
            "Epoch 52/100\n",
            "398/398 [==============================] - 0s 47us/step - loss: 0.0625 - accuracy: 0.9849 - val_loss: 0.0485 - val_accuracy: 0.9883\n",
            "Epoch 53/100\n",
            "398/398 [==============================] - 0s 36us/step - loss: 0.0615 - accuracy: 0.9849 - val_loss: 0.0479 - val_accuracy: 0.9883\n",
            "Epoch 54/100\n",
            "398/398 [==============================] - 0s 40us/step - loss: 0.0603 - accuracy: 0.9849 - val_loss: 0.0482 - val_accuracy: 0.9883\n",
            "Epoch 55/100\n",
            "398/398 [==============================] - 0s 41us/step - loss: 0.0593 - accuracy: 0.9849 - val_loss: 0.0484 - val_accuracy: 0.9883\n",
            "Epoch 56/100\n",
            "398/398 [==============================] - 0s 39us/step - loss: 0.0585 - accuracy: 0.9849 - val_loss: 0.0480 - val_accuracy: 0.9883\n",
            "Epoch 57/100\n",
            "398/398 [==============================] - 0s 38us/step - loss: 0.0578 - accuracy: 0.9849 - val_loss: 0.0477 - val_accuracy: 0.9912\n",
            "Epoch 58/100\n",
            "398/398 [==============================] - 0s 39us/step - loss: 0.0568 - accuracy: 0.9849 - val_loss: 0.0471 - val_accuracy: 0.9883\n",
            "Epoch 59/100\n",
            "398/398 [==============================] - 0s 40us/step - loss: 0.0561 - accuracy: 0.9849 - val_loss: 0.0465 - val_accuracy: 0.9883\n",
            "Epoch 60/100\n",
            "398/398 [==============================] - 0s 38us/step - loss: 0.0554 - accuracy: 0.9849 - val_loss: 0.0461 - val_accuracy: 0.9883\n",
            "Epoch 61/100\n",
            "398/398 [==============================] - 0s 38us/step - loss: 0.0547 - accuracy: 0.9862 - val_loss: 0.0450 - val_accuracy: 0.9912\n",
            "Epoch 62/100\n",
            "398/398 [==============================] - 0s 43us/step - loss: 0.0540 - accuracy: 0.9874 - val_loss: 0.0443 - val_accuracy: 0.9912\n",
            "Epoch 63/100\n",
            "398/398 [==============================] - 0s 37us/step - loss: 0.0535 - accuracy: 0.9874 - val_loss: 0.0438 - val_accuracy: 0.9912\n",
            "Epoch 64/100\n",
            "398/398 [==============================] - 0s 40us/step - loss: 0.0527 - accuracy: 0.9874 - val_loss: 0.0435 - val_accuracy: 0.9912\n",
            "Epoch 65/100\n",
            "398/398 [==============================] - 0s 35us/step - loss: 0.0520 - accuracy: 0.9887 - val_loss: 0.0434 - val_accuracy: 0.9912\n",
            "Epoch 66/100\n",
            "398/398 [==============================] - 0s 35us/step - loss: 0.0512 - accuracy: 0.9887 - val_loss: 0.0433 - val_accuracy: 0.9912\n",
            "Epoch 67/100\n",
            "398/398 [==============================] - 0s 35us/step - loss: 0.0506 - accuracy: 0.9887 - val_loss: 0.0432 - val_accuracy: 0.9912\n",
            "Epoch 68/100\n",
            "398/398 [==============================] - 0s 41us/step - loss: 0.0499 - accuracy: 0.9887 - val_loss: 0.0431 - val_accuracy: 0.9912\n",
            "Epoch 69/100\n",
            "398/398 [==============================] - 0s 41us/step - loss: 0.0492 - accuracy: 0.9887 - val_loss: 0.0429 - val_accuracy: 0.9912\n",
            "Epoch 70/100\n",
            "398/398 [==============================] - 0s 42us/step - loss: 0.0485 - accuracy: 0.9874 - val_loss: 0.0431 - val_accuracy: 0.9912\n",
            "Epoch 71/100\n",
            "398/398 [==============================] - 0s 39us/step - loss: 0.0483 - accuracy: 0.9874 - val_loss: 0.0442 - val_accuracy: 0.9912\n",
            "Epoch 72/100\n",
            "398/398 [==============================] - 0s 38us/step - loss: 0.0475 - accuracy: 0.9862 - val_loss: 0.0444 - val_accuracy: 0.9912\n",
            "Epoch 73/100\n",
            "398/398 [==============================] - 0s 36us/step - loss: 0.0467 - accuracy: 0.9862 - val_loss: 0.0436 - val_accuracy: 0.9912\n",
            "Epoch 74/100\n",
            "398/398 [==============================] - 0s 38us/step - loss: 0.0460 - accuracy: 0.9874 - val_loss: 0.0430 - val_accuracy: 0.9912\n",
            "Epoch 75/100\n",
            "398/398 [==============================] - 0s 39us/step - loss: 0.0453 - accuracy: 0.9887 - val_loss: 0.0426 - val_accuracy: 0.9912\n",
            "Epoch 76/100\n",
            "398/398 [==============================] - 0s 40us/step - loss: 0.0448 - accuracy: 0.9887 - val_loss: 0.0423 - val_accuracy: 0.9912\n",
            "Epoch 77/100\n",
            "398/398 [==============================] - 0s 39us/step - loss: 0.0442 - accuracy: 0.9887 - val_loss: 0.0420 - val_accuracy: 0.9912\n",
            "Epoch 78/100\n",
            "398/398 [==============================] - 0s 39us/step - loss: 0.0437 - accuracy: 0.9887 - val_loss: 0.0419 - val_accuracy: 0.9912\n",
            "Epoch 79/100\n",
            "398/398 [==============================] - 0s 39us/step - loss: 0.0433 - accuracy: 0.9887 - val_loss: 0.0422 - val_accuracy: 0.9912\n",
            "Epoch 80/100\n",
            "398/398 [==============================] - 0s 38us/step - loss: 0.0427 - accuracy: 0.9887 - val_loss: 0.0421 - val_accuracy: 0.9912\n",
            "Epoch 81/100\n",
            "398/398 [==============================] - 0s 47us/step - loss: 0.0422 - accuracy: 0.9887 - val_loss: 0.0418 - val_accuracy: 0.9912\n",
            "Epoch 82/100\n",
            "398/398 [==============================] - 0s 44us/step - loss: 0.0415 - accuracy: 0.9887 - val_loss: 0.0413 - val_accuracy: 0.9912\n",
            "Epoch 83/100\n",
            "398/398 [==============================] - 0s 37us/step - loss: 0.0412 - accuracy: 0.9887 - val_loss: 0.0409 - val_accuracy: 0.9912\n",
            "Epoch 84/100\n",
            "398/398 [==============================] - 0s 36us/step - loss: 0.0406 - accuracy: 0.9887 - val_loss: 0.0410 - val_accuracy: 0.9942\n",
            "Epoch 85/100\n",
            "398/398 [==============================] - 0s 36us/step - loss: 0.0401 - accuracy: 0.9887 - val_loss: 0.0411 - val_accuracy: 0.9942\n",
            "Epoch 86/100\n",
            "398/398 [==============================] - 0s 35us/step - loss: 0.0396 - accuracy: 0.9887 - val_loss: 0.0412 - val_accuracy: 0.9942\n",
            "Epoch 87/100\n",
            "398/398 [==============================] - 0s 45us/step - loss: 0.0391 - accuracy: 0.9887 - val_loss: 0.0412 - val_accuracy: 0.9942\n",
            "Epoch 88/100\n",
            "398/398 [==============================] - 0s 42us/step - loss: 0.0387 - accuracy: 0.9887 - val_loss: 0.0412 - val_accuracy: 0.9942\n",
            "Epoch 89/100\n",
            "398/398 [==============================] - 0s 44us/step - loss: 0.0382 - accuracy: 0.9887 - val_loss: 0.0409 - val_accuracy: 0.9942\n",
            "Epoch 90/100\n",
            "398/398 [==============================] - 0s 36us/step - loss: 0.0378 - accuracy: 0.9887 - val_loss: 0.0411 - val_accuracy: 0.9942\n",
            "Epoch 91/100\n",
            "398/398 [==============================] - 0s 36us/step - loss: 0.0375 - accuracy: 0.9899 - val_loss: 0.0411 - val_accuracy: 0.9942\n",
            "Epoch 92/100\n",
            "398/398 [==============================] - 0s 35us/step - loss: 0.0368 - accuracy: 0.9899 - val_loss: 0.0406 - val_accuracy: 0.9942\n",
            "Epoch 93/100\n",
            "398/398 [==============================] - 0s 34us/step - loss: 0.0366 - accuracy: 0.9899 - val_loss: 0.0402 - val_accuracy: 0.9942\n",
            "Epoch 94/100\n",
            "398/398 [==============================] - 0s 37us/step - loss: 0.0361 - accuracy: 0.9899 - val_loss: 0.0402 - val_accuracy: 0.9942\n",
            "Epoch 95/100\n",
            "398/398 [==============================] - 0s 37us/step - loss: 0.0357 - accuracy: 0.9899 - val_loss: 0.0405 - val_accuracy: 0.9942\n",
            "Epoch 96/100\n",
            "398/398 [==============================] - 0s 40us/step - loss: 0.0351 - accuracy: 0.9899 - val_loss: 0.0404 - val_accuracy: 0.9942\n",
            "Epoch 97/100\n",
            "398/398 [==============================] - 0s 38us/step - loss: 0.0348 - accuracy: 0.9899 - val_loss: 0.0405 - val_accuracy: 0.9942\n",
            "Epoch 98/100\n",
            "398/398 [==============================] - 0s 41us/step - loss: 0.0344 - accuracy: 0.9899 - val_loss: 0.0406 - val_accuracy: 0.9942\n",
            "Epoch 99/100\n",
            "398/398 [==============================] - 0s 36us/step - loss: 0.0341 - accuracy: 0.9899 - val_loss: 0.0412 - val_accuracy: 0.9942\n",
            "Epoch 100/100\n",
            "398/398 [==============================] - 0s 37us/step - loss: 0.0335 - accuracy: 0.9899 - val_loss: 0.0411 - val_accuracy: 0.9942\n"
          ],
          "name": "stdout"
        }
      ]
    },
    {
      "cell_type": "markdown",
      "metadata": {
        "id": "2t0utHQ2hnBR",
        "colab_type": "text"
      },
      "source": [
        "Convert predictions to label.\n"
      ]
    },
    {
      "cell_type": "code",
      "metadata": {
        "id": "-F1oJMo6mQPl",
        "colab_type": "code",
        "colab": {}
      },
      "source": [
        "y_train_pred = model.predict_classes(X_train)\n",
        "y_test_pred = model.predict_classes(X_test)"
      ],
      "execution_count": 17,
      "outputs": []
    },
    {
      "cell_type": "markdown",
      "metadata": {
        "id": "teBfLKYchtLt",
        "colab_type": "text"
      },
      "source": [
        "Convert one hot encoded test label to label."
      ]
    },
    {
      "cell_type": "code",
      "metadata": {
        "id": "uEW-GtRUjW1h",
        "colab_type": "code",
        "colab": {}
      },
      "source": [
        "def convert_prediction2label(pred):\n",
        "  l = list()\n",
        "  for i in range(len(pred)):\n",
        "    l.append(np.argmax(pred[i]))\n",
        "  return l"
      ],
      "execution_count": 18,
      "outputs": []
    },
    {
      "cell_type": "code",
      "metadata": {
        "id": "HoHrKI09nt2s",
        "colab_type": "code",
        "colab": {}
      },
      "source": [
        "train = convert_prediction2label(y_train)\n",
        "test = convert_prediction2label(y_test)"
      ],
      "execution_count": 19,
      "outputs": []
    },
    {
      "cell_type": "markdown",
      "metadata": {
        "id": "AV8YJ8wOh61N",
        "colab_type": "text"
      },
      "source": [
        "Calculate the accuracy score for training and test set."
      ]
    },
    {
      "cell_type": "code",
      "metadata": {
        "id": "BvqLtaa1md6K",
        "colab_type": "code",
        "colab": {
          "base_uri": "https://localhost:8080/",
          "height": 51
        },
        "outputId": "ca838694-7762-4ed5-d537-929393ecbb49"
      },
      "source": [
        "from sklearn.metrics import accuracy_score\n",
        "print(\"The Accuracy score on the Train set is:\\t{:0.3f}\".format(accuracy_score(train, y_train_pred)))\n",
        "print(\"The Accuracy score on the Test set is:\\t{:0.3f}\".format(accuracy_score(test, y_test_pred)))"
      ],
      "execution_count": 20,
      "outputs": [
        {
          "output_type": "stream",
          "text": [
            "The Accuracy score on the Train set is:\t0.990\n",
            "The Accuracy score on the Test set is:\t0.994\n"
          ],
          "name": "stdout"
        }
      ]
    },
    {
      "cell_type": "markdown",
      "metadata": {
        "id": "KCKTsut1yDGP",
        "colab_type": "text"
      },
      "source": [
        "# Visualization"
      ]
    },
    {
      "cell_type": "code",
      "metadata": {
        "id": "fT9rE7iNyGb1",
        "colab_type": "code",
        "colab": {
          "base_uri": "https://localhost:8080/",
          "height": 295
        },
        "outputId": "6631a4b6-0ad4-4677-c506-8c9c265ac6e5"
      },
      "source": [
        "import matplotlib.pyplot as plt\n",
        "plt.plot(history.history['accuracy'])\n",
        "plt.plot(history.history['val_accuracy'])\n",
        "plt.title('Model accuracy')\n",
        "plt.ylabel('Accuracy')\n",
        "plt.xlabel('Epoch')\n",
        "plt.legend(['Train', 'Test'], loc='upper left')\n",
        "plt.show()"
      ],
      "execution_count": 22,
      "outputs": [
        {
          "output_type": "display_data",
          "data": {
            "image/png": "[encoded data removed]",
            "text/plain": [
              "<Figure size 432x288 with 1 Axes>"
            ]
          },
          "metadata": {
            "tags": [],
            "needs_background": "light"
          }
        }
      ]
    },
    {
      "cell_type": "code",
      "metadata": {
        "id": "IAx3syeEyzUD",
        "colab_type": "code",
        "colab": {
          "base_uri": "https://localhost:8080/",
          "height": 295
        },
        "outputId": "9e02e207-aef3-4e33-cbef-a61b41d18f67"
      },
      "source": [
        "plt.plot(history.history['loss']) \n",
        "plt.plot(history.history['val_loss']) \n",
        "plt.title('Model loss') \n",
        "plt.ylabel('Loss') \n",
        "plt.xlabel('Epoch') \n",
        "plt.legend(['Train', 'Test'], loc='upper left') \n",
        "plt.show()"
      ],
      "execution_count": 23,
      "outputs": [
        {
          "output_type": "display_data",
          "data": {
            "image/png": "[encoded data removed]",
            "text/plain": [
              "<Figure size 432x288 with 1 Axes>"
            ]
          },
          "metadata": {
            "tags": [],
            "needs_background": "light"
          }
        }
      ]
    },
    {
      "cell_type": "markdown",
      "metadata": {
        "id": "Mp7nQTmb0HD3",
        "colab_type": "text"
      },
      "source": [
        "According to both graphs, it looks epoch 30 would have been enough to get the same level of accuracy."
      ]
    },
    {
      "cell_type": "markdown",
      "metadata": {
        "id": "QhjOG_H2-_pB",
        "colab_type": "text"
      },
      "source": [
        "#Feature Selection#"
      ]
    },
    {
      "cell_type": "code",
      "metadata": {
        "id": "TJb40nOLyeEg",
        "colab_type": "code",
        "colab": {}
      },
      "source": [
        "features_to_include = ['radius_mean', 'texture_mean', 'perimeter_mean',\n",
        "       'area_mean', 'smoothness_mean', 'compactness_mean', 'concavity_mean',\n",
        "       'concave points_mean', 'symmetry_mean', 'fractal_dimension_mean',\n",
        "       'radius_se', 'texture_se', 'perimeter_se', 'area_se', 'smoothness_se',\n",
        "       'compactness_se', 'concavity_se', 'concave points_se', 'symmetry_se',\n",
        "       'fractal_dimension_se', 'radius_worst', 'texture_worst',\n",
        "       'perimeter_worst', 'area_worst', 'smoothness_worst',\n",
        "       'compactness_worst', 'concavity_worst', 'concave points_worst',\n",
        "       'symmetry_worst', 'fractal_dimension_worst']"
      ],
      "execution_count": 24,
      "outputs": []
    },
    {
      "cell_type": "code",
      "metadata": {
        "id": "-f8KhAB4xDAp",
        "colab_type": "code",
        "colab": {
          "base_uri": "https://localhost:8080/",
          "height": 119
        },
        "outputId": "05117c2d-418b-4dc7-9d09-b61d16132130"
      },
      "source": [
        "from sklearn import feature_selection\n",
        "\n",
        "feature_importances = feature_selection.mutual_info_classif(df[features_to_include],df['diagnosis'])\n",
        "feature_importances"
      ],
      "execution_count": 25,
      "outputs": [
        {
          "output_type": "execute_result",
          "data": {
            "text/plain": [
              "array([0.36611624, 0.09852932, 0.40066928, 0.35897257, 0.07671551,\n",
              "       0.21500905, 0.37304632, 0.44121908, 0.05575102, 0.00403248,\n",
              "       0.24720362, 0.00238074, 0.27317799, 0.33950068, 0.01701878,\n",
              "       0.07649325, 0.11714419, 0.13223639, 0.01391154, 0.03750925,\n",
              "       0.45226083, 0.12444796, 0.47456464, 0.4644563 , 0.09713198,\n",
              "       0.22439715, 0.31462526, 0.43715936, 0.09133437, 0.06815873])"
            ]
          },
          "metadata": {
            "tags": []
          },
          "execution_count": 25
        }
      ]
    },
    {
      "cell_type": "code",
      "metadata": {
        "id": "JPP1dkzXz-0b",
        "colab_type": "code",
        "colab": {}
      },
      "source": [
        "feat_importance_df = pd.DataFrame(list(zip(features_to_include, feature_importances)), columns=['feature','importance'])"
      ],
      "execution_count": 26,
      "outputs": []
    },
    {
      "cell_type": "code",
      "metadata": {
        "id": "bt9ZNmGcz4B2",
        "colab_type": "code",
        "colab": {}
      },
      "source": [
        "feat_importance_df.sort_values(by='importance', ascending=False, inplace=True)"
      ],
      "execution_count": 27,
      "outputs": []
    },
    {
      "cell_type": "code",
      "metadata": {
        "id": "vPvSzHiv0DvP",
        "colab_type": "code",
        "colab": {
          "base_uri": "https://localhost:8080/",
          "height": 102
        },
        "outputId": "bce5c172-426b-445e-a6e3-25d62a093dfe"
      },
      "source": [
        "top_feats = [x for x in feat_importance_df['feature'][0:5]]\n",
        "top_feats"
      ],
      "execution_count": 28,
      "outputs": [
        {
          "output_type": "execute_result",
          "data": {
            "text/plain": [
              "['perimeter_worst',\n",
              " 'area_worst',\n",
              " 'radius_worst',\n",
              " 'concave points_mean',\n",
              " 'concave points_worst']"
            ]
          },
          "metadata": {
            "tags": []
          },
          "execution_count": 28
        }
      ]
    },
    {
      "cell_type": "code",
      "metadata": {
        "id": "ZkCS0gPX0M2U",
        "colab_type": "code",
        "colab": {
          "base_uri": "https://localhost:8080/",
          "height": 998
        },
        "outputId": "083d11be-39c8-46af-d64b-c40970be5b23"
      },
      "source": [
        "import seaborn as sns\n",
        "%matplotlib inline\n",
        "# draw decision boundary\n",
        "sns.set_style('whitegrid')\n",
        "top_feats = ['perimeter_worst', 'area_worst', 'radius_worst', 'concave points_mean', 'concave points_worst', 'diagnosis']\n",
        "sns.pairplot(df[top_feats],hue=\"diagnosis\")"
      ],
      "execution_count": 29,
      "outputs": [
        {
          "output_type": "stream",
          "text": [
            "/usr/local/lib/python3.6/dist-packages/statsmodels/tools/_testing.py:19: FutureWarning: pandas.util.testing is deprecated. Use the functions in the public API at pandas.testing instead.\n",
            "  import pandas.util.testing as tm\n"
          ],
          "name": "stderr"
        },
        {
          "output_type": "execute_result",
          "data": {
            "text/plain": [
              "<seaborn.axisgrid.PairGrid at 0x7ff8e9819780>"
            ]
          },
          "metadata": {
            "tags": []
          },
          "execution_count": 29
        },
        {
          "output_type": "display_data",
          "data": {
            "image/png": "[encoded data removed]",
            "text/plain": [
              "<Figure size 955.5x900 with 30 Axes>"
            ]
          },
          "metadata": {
            "tags": []
          }
        }
      ]
    }
  ]
}